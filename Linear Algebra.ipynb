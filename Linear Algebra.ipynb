{
 "cells": [
  {
   "cell_type": "markdown",
   "metadata": {},
   "source": [
    "# Statement"
   ]
  },
  {
   "cell_type": "markdown",
   "metadata": {},
   "source": [
    "The Sure Tomorrow insurance company wants to solve several tasks with the help of Machine Learning and you are asked to evaluate that possibility.\n",
    "\n",
    "- Task 1: Find customers who are similar to a given customer. This will help the company's agents with marketing.\n",
    "- Task 2: Predict whether a new customer is likely to receive an insurance benefit. Can a prediction model do better than a dummy model?\n",
    "- Task 3: Predict the number of insurance benefits a new customer is likely to receive using a linear regression model.\n",
    "- Task 4: Protect clients' personal data without breaking the model from the previous task. It's necessary to develop a data transformation algorithm that would make it hard to recover personal information if the data fell into the wrong hands. This is called data masking, or data obfuscation. But the data should be protected in such a way that the quality of machine learning models doesn't suffer. You don't need to pick the best model, just prove that the algorithm works correctly."
   ]
  },
  {
   "cell_type": "markdown",
   "metadata": {},
   "source": [
    "# Data Preprocessing & Exploration\n",
    "\n",
    "## Initialization"
   ]
  },
  {
   "cell_type": "code",
   "execution_count": 1,
   "metadata": {},
   "outputs": [],
   "source": [
    "pip install scikit-learn --upgrade"
   ]
  },
  {
   "cell_type": "code",
   "execution_count": 2,
   "metadata": {},
   "outputs": [],
   "source": [
    "import numpy as np\n",
    "import pandas as pd\n",
    "\n",
    "import seaborn as sns\n",
    "\n",
    "import sklearn.linear_model\n",
    "import sklearn.metrics\n",
    "import sklearn.neighbors\n",
    "import sklearn.preprocessing\n",
    "\n",
    "from sklearn.model_selection import train_test_split\n",
    "\n",
    "from sklearn.neighbors import NearestNeighbors,KNeighborsClassifier\n",
    "from sklearn.linear_model import LinearRegression\n",
    "\n",
    "from IPython.display import display\n",
    "\n",
    "import math\n",
    "# const random_state \n",
    "RANDOM_STATE = 12345"
   ]
  },
  {
   "cell_type": "markdown",
   "metadata": {},
   "source": [
    "## Load Data"
   ]
  },
  {
   "cell_type": "markdown",
   "metadata": {},
   "source": [
    "Load data and conduct a basic check that it's free from obvious issues."
   ]
  },
  {
   "cell_type": "code",
   "execution_count": 3,
   "metadata": {},
   "outputs": [],
   "source": [
    "df = pd.read_csv('https://code.s3.yandex.net/datasets/insurance_us.csv')"
   ]
  },
  {
   "cell_type": "markdown",
   "metadata": {},
   "source": [
    "We rename the colums to make the code look more consistent with its style."
   ]
  },
  {
   "cell_type": "code",
   "execution_count": 4,
   "metadata": {},
   "outputs": [],
   "source": [
    "df = df.rename(columns={'Gender': 'gender', 'Age': 'age', 'Salary': 'income', 'Family members': 'family_members', 'Insurance benefits': 'insurance_benefits'})"
   ]
  },
  {
   "cell_type": "code",
   "execution_count": 5,
   "metadata": {},
   "outputs": [
    {
     "data": {
      "text/html": [
       "<div>\n",
       "<style scoped>\n",
       "    .dataframe tbody tr th:only-of-type {\n",
       "        vertical-align: middle;\n",
       "    }\n",
       "\n",
       "    .dataframe tbody tr th {\n",
       "        vertical-align: top;\n",
       "    }\n",
       "\n",
       "    .dataframe thead th {\n",
       "        text-align: right;\n",
       "    }\n",
       "</style>\n",
       "<table border=\"1\" class=\"dataframe\">\n",
       "  <thead>\n",
       "    <tr style=\"text-align: right;\">\n",
       "      <th></th>\n",
       "      <th>gender</th>\n",
       "      <th>age</th>\n",
       "      <th>income</th>\n",
       "      <th>family_members</th>\n",
       "      <th>insurance_benefits</th>\n",
       "    </tr>\n",
       "  </thead>\n",
       "  <tbody>\n",
       "    <tr>\n",
       "      <td>1223</td>\n",
       "      <td>0</td>\n",
       "      <td>33.0</td>\n",
       "      <td>42400.0</td>\n",
       "      <td>0</td>\n",
       "      <td>0</td>\n",
       "    </tr>\n",
       "    <tr>\n",
       "      <td>2620</td>\n",
       "      <td>1</td>\n",
       "      <td>32.0</td>\n",
       "      <td>33300.0</td>\n",
       "      <td>2</td>\n",
       "      <td>0</td>\n",
       "    </tr>\n",
       "    <tr>\n",
       "      <td>3954</td>\n",
       "      <td>0</td>\n",
       "      <td>40.0</td>\n",
       "      <td>34700.0</td>\n",
       "      <td>2</td>\n",
       "      <td>0</td>\n",
       "    </tr>\n",
       "    <tr>\n",
       "      <td>93</td>\n",
       "      <td>1</td>\n",
       "      <td>20.0</td>\n",
       "      <td>25700.0</td>\n",
       "      <td>4</td>\n",
       "      <td>0</td>\n",
       "    </tr>\n",
       "    <tr>\n",
       "      <td>4414</td>\n",
       "      <td>0</td>\n",
       "      <td>27.0</td>\n",
       "      <td>45300.0</td>\n",
       "      <td>0</td>\n",
       "      <td>0</td>\n",
       "    </tr>\n",
       "    <tr>\n",
       "      <td>4501</td>\n",
       "      <td>0</td>\n",
       "      <td>23.0</td>\n",
       "      <td>38800.0</td>\n",
       "      <td>1</td>\n",
       "      <td>0</td>\n",
       "    </tr>\n",
       "    <tr>\n",
       "      <td>1450</td>\n",
       "      <td>0</td>\n",
       "      <td>21.0</td>\n",
       "      <td>47600.0</td>\n",
       "      <td>1</td>\n",
       "      <td>0</td>\n",
       "    </tr>\n",
       "    <tr>\n",
       "      <td>4329</td>\n",
       "      <td>1</td>\n",
       "      <td>45.0</td>\n",
       "      <td>37700.0</td>\n",
       "      <td>1</td>\n",
       "      <td>1</td>\n",
       "    </tr>\n",
       "    <tr>\n",
       "      <td>3344</td>\n",
       "      <td>1</td>\n",
       "      <td>55.0</td>\n",
       "      <td>37700.0</td>\n",
       "      <td>1</td>\n",
       "      <td>3</td>\n",
       "    </tr>\n",
       "    <tr>\n",
       "      <td>4192</td>\n",
       "      <td>0</td>\n",
       "      <td>22.0</td>\n",
       "      <td>55700.0</td>\n",
       "      <td>0</td>\n",
       "      <td>0</td>\n",
       "    </tr>\n",
       "  </tbody>\n",
       "</table>\n",
       "</div>"
      ],
      "text/plain": [
       "      gender   age   income  family_members  insurance_benefits\n",
       "1223       0  33.0  42400.0               0                   0\n",
       "2620       1  32.0  33300.0               2                   0\n",
       "3954       0  40.0  34700.0               2                   0\n",
       "93         1  20.0  25700.0               4                   0\n",
       "4414       0  27.0  45300.0               0                   0\n",
       "4501       0  23.0  38800.0               1                   0\n",
       "1450       0  21.0  47600.0               1                   0\n",
       "4329       1  45.0  37700.0               1                   1\n",
       "3344       1  55.0  37700.0               1                   3\n",
       "4192       0  22.0  55700.0               0                   0"
      ]
     },
     "execution_count": 5,
     "metadata": {},
     "output_type": "execute_result"
    }
   ],
   "source": [
    "df.sample(10)"
   ]
  },
  {
   "cell_type": "code",
   "execution_count": 6,
   "metadata": {},
   "outputs": [
    {
     "name": "stdout",
     "output_type": "stream",
     "text": [
      "<class 'pandas.core.frame.DataFrame'>\n",
      "RangeIndex: 5000 entries, 0 to 4999\n",
      "Data columns (total 5 columns):\n",
      "gender                5000 non-null int64\n",
      "age                   5000 non-null float64\n",
      "income                5000 non-null float64\n",
      "family_members        5000 non-null int64\n",
      "insurance_benefits    5000 non-null int64\n",
      "dtypes: float64(2), int64(3)\n",
      "memory usage: 195.4 KB\n"
     ]
    }
   ],
   "source": [
    "df.info()"
   ]
  },
  {
   "cell_type": "code",
   "execution_count": 7,
   "metadata": {},
   "outputs": [],
   "source": [
    "# we may want to fix the age type (from float to int) though this is not critical\n",
    "\n",
    "# write your conversion here if you choose:\n",
    "df['age'] = np.int8(df['age'])"
   ]
  },
  {
   "cell_type": "code",
   "execution_count": 8,
   "metadata": {},
   "outputs": [
    {
     "name": "stdout",
     "output_type": "stream",
     "text": [
      "<class 'pandas.core.frame.DataFrame'>\n",
      "RangeIndex: 5000 entries, 0 to 4999\n",
      "Data columns (total 5 columns):\n",
      "gender                5000 non-null int64\n",
      "age                   5000 non-null int8\n",
      "income                5000 non-null float64\n",
      "family_members        5000 non-null int64\n",
      "insurance_benefits    5000 non-null int64\n",
      "dtypes: float64(1), int64(3), int8(1)\n",
      "memory usage: 161.3 KB\n"
     ]
    }
   ],
   "source": [
    "# check to see that the conversion was successful\n",
    "df.info()"
   ]
  },
  {
   "cell_type": "code",
   "execution_count": 9,
   "metadata": {},
   "outputs": [],
   "source": [
    "# now have a look at the data's descriptive statistics. \n",
    "# Does everything look okay?"
   ]
  },
  {
   "cell_type": "code",
   "execution_count": null,
   "metadata": {},
   "outputs": [],
   "source": []
  },
  {
   "cell_type": "code",
   "execution_count": null,
   "metadata": {},
   "outputs": [],
   "source": []
  },
  {
   "cell_type": "markdown",
   "metadata": {},
   "source": [
    "## EDA"
   ]
  },
  {
   "cell_type": "markdown",
   "metadata": {},
   "source": [
    "Let's quickly check whether there are certain groups of customers by looking at the pair plot."
   ]
  },
  {
   "cell_type": "code",
   "execution_count": 10,
   "metadata": {},
   "outputs": [
    {
     "data": {
      "image/png": "[encoded data removed]",
      "text/plain": [
       "<Figure size 864x864 with 30 Axes>"
      ]
     },
     "metadata": {
      "needs_background": "light"
     },
     "output_type": "display_data"
    }
   ],
   "source": [
    "g = sns.pairplot(df, kind='hist')\n",
    "g.fig.set_size_inches(12, 12)"
   ]
  },
  {
   "cell_type": "markdown",
   "metadata": {},
   "source": [
    "Ok, it is a bit difficult to spot obvious groups (clusters) as it is difficult to combine several variables simultaneously (to analyze multivariate distributions). That's where LA and ML can be quite handy."
   ]
  },
  {
   "cell_type": "markdown",
   "metadata": {},
   "source": [
    "# Task 1. Similar Customers"
   ]
  },
  {
   "cell_type": "markdown",
   "metadata": {},
   "source": [
    "In the language of ML, it is necessary to develop a procedure that returns k nearest neighbors (objects) for a given object based on the distance between the objects.\n",
    "\n",
    "You may want to review the following lessons (chapter -> lesson)\n",
    "- Distance Between Vectors -> Euclidean Distance\n",
    "- Distance Between Vectors -> Manhattan Distance\n",
    "\n",
    "To solve the task, we can try different distance metrics."
   ]
  },
  {
   "cell_type": "markdown",
   "metadata": {},
   "source": [
    "Write a function that returns k nearest neighbors for an $n^{th}$ object based on a specified distance metric. The number of received insurance benefits should not be taken into account for this task. \n",
    "\n",
    "You can use a ready implementation of the kNN algorithm from scikit-learn (check [the link](https://scikit-learn.org/stable/modules/generated/sklearn.neighbors.NearestNeighbors.html#sklearn.neighbors.NearestNeighbors)) or use your own.\n",
    "\n",
    "Test it for four combination of two cases\n",
    "- Scaling\n",
    "  - the data is not scaled\n",
    "  - the data is scaled with the [MaxAbsScaler](https://scikit-learn.org/stable/modules/generated/sklearn.preprocessing.MaxAbsScaler.html) scaler\n",
    "- Distance Metrics\n",
    "  - Euclidean\n",
    "  - Manhattan\n",
    "\n",
    "Answer these questions:\n",
    "- Does the data being not scaled affect the kNN algorithm? If so, how does that appear?\n",
    "- How similar are the results using the Manhattan distance metric (regardless of the scaling)?"
   ]
  },
  {
   "cell_type": "code",
   "execution_count": 11,
   "metadata": {},
   "outputs": [],
   "source": [
    "feature_names = ['gender', 'age', 'income', 'family_members']"
   ]
  },
  {
   "cell_type": "code",
   "execution_count": 12,
   "metadata": {},
   "outputs": [],
   "source": [
    "def get_knn(df, n, k, metric):\n",
    "    \n",
    "    \"\"\"\n",
    "    Returns k nearest neighbors\n",
    "\n",
    "    :param df: pandas DataFrame used to find similar objects within\n",
    "    :param n: object no for which the nearest neighbours are looked for\n",
    "    :param k: the number of the nearest neighbours to return\n",
    "    :param metric: name of distance metric\n",
    "    \"\"\"\n",
    "\n",
    "    nbrs = NearestNeighbors(metric=metric).fit(df[feature_names].values)\n",
    "    \n",
    "    nbrs_distances, nbrs_indices = nbrs.kneighbors([df.iloc[n][feature_names]], k, return_distance=True)\n",
    "    \n",
    "    df_res = pd.concat([\n",
    "        df.iloc[nbrs_indices[0]], \n",
    "        pd.DataFrame(nbrs_distances.T, index=nbrs_indices[0], columns=['distance'])\n",
    "        ], axis=1)\n",
    "    \n",
    "    return df_res"
   ]
  },
  {
   "cell_type": "markdown",
   "metadata": {},
   "source": [
    "Scaling the data."
   ]
  },
  {
   "cell_type": "code",
   "execution_count": 13,
   "metadata": {},
   "outputs": [],
   "source": [
    "feature_names = ['gender', 'age', 'income', 'family_members']\n",
    "\n",
    "transformer_mas = sklearn.preprocessing.MaxAbsScaler().fit(df[feature_names].to_numpy())\n",
    "\n",
    "df_scaled = df.copy()\n",
    "df_scaled.loc[:, feature_names] = transformer_mas.transform(df[feature_names].to_numpy())"
   ]
  },
  {
   "cell_type": "code",
   "execution_count": 14,
   "metadata": {},
   "outputs": [
    {
     "data": {
      "text/html": [
       "<div>\n",
       "<style scoped>\n",
       "    .dataframe tbody tr th:only-of-type {\n",
       "        vertical-align: middle;\n",
       "    }\n",
       "\n",
       "    .dataframe tbody tr th {\n",
       "        vertical-align: top;\n",
       "    }\n",
       "\n",
       "    .dataframe thead th {\n",
       "        text-align: right;\n",
       "    }\n",
       "</style>\n",
       "<table border=\"1\" class=\"dataframe\">\n",
       "  <thead>\n",
       "    <tr style=\"text-align: right;\">\n",
       "      <th></th>\n",
       "      <th>gender</th>\n",
       "      <th>age</th>\n",
       "      <th>income</th>\n",
       "      <th>family_members</th>\n",
       "      <th>insurance_benefits</th>\n",
       "    </tr>\n",
       "  </thead>\n",
       "  <tbody>\n",
       "    <tr>\n",
       "      <td>1442</td>\n",
       "      <td>1.0</td>\n",
       "      <td>0.307692</td>\n",
       "      <td>0.386076</td>\n",
       "      <td>0.166667</td>\n",
       "      <td>0</td>\n",
       "    </tr>\n",
       "    <tr>\n",
       "      <td>4429</td>\n",
       "      <td>0.0</td>\n",
       "      <td>0.569231</td>\n",
       "      <td>0.613924</td>\n",
       "      <td>0.166667</td>\n",
       "      <td>0</td>\n",
       "    </tr>\n",
       "    <tr>\n",
       "      <td>781</td>\n",
       "      <td>1.0</td>\n",
       "      <td>0.630769</td>\n",
       "      <td>0.617722</td>\n",
       "      <td>0.000000</td>\n",
       "      <td>0</td>\n",
       "    </tr>\n",
       "    <tr>\n",
       "      <td>4729</td>\n",
       "      <td>0.0</td>\n",
       "      <td>0.338462</td>\n",
       "      <td>0.284810</td>\n",
       "      <td>0.000000</td>\n",
       "      <td>0</td>\n",
       "    </tr>\n",
       "    <tr>\n",
       "      <td>3088</td>\n",
       "      <td>0.0</td>\n",
       "      <td>0.538462</td>\n",
       "      <td>0.694937</td>\n",
       "      <td>0.000000</td>\n",
       "      <td>0</td>\n",
       "    </tr>\n",
       "  </tbody>\n",
       "</table>\n",
       "</div>"
      ],
      "text/plain": [
       "      gender       age    income  family_members  insurance_benefits\n",
       "1442     1.0  0.307692  0.386076        0.166667                   0\n",
       "4429     0.0  0.569231  0.613924        0.166667                   0\n",
       "781      1.0  0.630769  0.617722        0.000000                   0\n",
       "4729     0.0  0.338462  0.284810        0.000000                   0\n",
       "3088     0.0  0.538462  0.694937        0.000000                   0"
      ]
     },
     "execution_count": 14,
     "metadata": {},
     "output_type": "execute_result"
    }
   ],
   "source": [
    "df_scaled.sample(5)"
   ]
  },
  {
   "cell_type": "markdown",
   "metadata": {},
   "source": [
    "Now, let's get similar records for a given one for every combination"
   ]
  },
  {
   "cell_type": "code",
   "execution_count": 15,
   "metadata": {},
   "outputs": [
    {
     "data": {
      "text/html": [
       "<div>\n",
       "<style scoped>\n",
       "    .dataframe tbody tr th:only-of-type {\n",
       "        vertical-align: middle;\n",
       "    }\n",
       "\n",
       "    .dataframe tbody tr th {\n",
       "        vertical-align: top;\n",
       "    }\n",
       "\n",
       "    .dataframe thead th {\n",
       "        text-align: right;\n",
       "    }\n",
       "</style>\n",
       "<table border=\"1\" class=\"dataframe\">\n",
       "  <thead>\n",
       "    <tr style=\"text-align: right;\">\n",
       "      <th></th>\n",
       "      <th>gender</th>\n",
       "      <th>age</th>\n",
       "      <th>income</th>\n",
       "      <th>family_members</th>\n",
       "      <th>insurance_benefits</th>\n",
       "      <th>distance</th>\n",
       "    </tr>\n",
       "  </thead>\n",
       "  <tbody>\n",
       "    <tr>\n",
       "      <td>2037</td>\n",
       "      <td>1</td>\n",
       "      <td>26</td>\n",
       "      <td>36600.0</td>\n",
       "      <td>0</td>\n",
       "      <td>0</td>\n",
       "      <td>0.000000</td>\n",
       "    </tr>\n",
       "    <tr>\n",
       "      <td>1508</td>\n",
       "      <td>0</td>\n",
       "      <td>26</td>\n",
       "      <td>36600.0</td>\n",
       "      <td>0</td>\n",
       "      <td>0</td>\n",
       "      <td>1.000000</td>\n",
       "    </tr>\n",
       "    <tr>\n",
       "      <td>10</td>\n",
       "      <td>1</td>\n",
       "      <td>25</td>\n",
       "      <td>36600.0</td>\n",
       "      <td>1</td>\n",
       "      <td>0</td>\n",
       "      <td>1.414214</td>\n",
       "    </tr>\n",
       "    <tr>\n",
       "      <td>3247</td>\n",
       "      <td>1</td>\n",
       "      <td>26</td>\n",
       "      <td>36600.0</td>\n",
       "      <td>2</td>\n",
       "      <td>0</td>\n",
       "      <td>2.000000</td>\n",
       "    </tr>\n",
       "  </tbody>\n",
       "</table>\n",
       "</div>"
      ],
      "text/plain": [
       "      gender  age   income  family_members  insurance_benefits  distance\n",
       "2037       1   26  36600.0               0                   0  0.000000\n",
       "1508       0   26  36600.0               0                   0  1.000000\n",
       "10         1   25  36600.0               1                   0  1.414214\n",
       "3247       1   26  36600.0               2                   0  2.000000"
      ]
     },
     "execution_count": 15,
     "metadata": {},
     "output_type": "execute_result"
    }
   ],
   "source": [
    "get_knn(df,2037,4,'euclidean')"
   ]
  },
  {
   "cell_type": "code",
   "execution_count": 16,
   "metadata": {},
   "outputs": [
    {
     "data": {
      "text/html": [
       "<div>\n",
       "<style scoped>\n",
       "    .dataframe tbody tr th:only-of-type {\n",
       "        vertical-align: middle;\n",
       "    }\n",
       "\n",
       "    .dataframe tbody tr th {\n",
       "        vertical-align: top;\n",
       "    }\n",
       "\n",
       "    .dataframe thead th {\n",
       "        text-align: right;\n",
       "    }\n",
       "</style>\n",
       "<table border=\"1\" class=\"dataframe\">\n",
       "  <thead>\n",
       "    <tr style=\"text-align: right;\">\n",
       "      <th></th>\n",
       "      <th>gender</th>\n",
       "      <th>age</th>\n",
       "      <th>income</th>\n",
       "      <th>family_members</th>\n",
       "      <th>insurance_benefits</th>\n",
       "      <th>distance</th>\n",
       "    </tr>\n",
       "  </thead>\n",
       "  <tbody>\n",
       "    <tr>\n",
       "      <td>2037</td>\n",
       "      <td>1</td>\n",
       "      <td>26</td>\n",
       "      <td>36600.0</td>\n",
       "      <td>0</td>\n",
       "      <td>0</td>\n",
       "      <td>0.0</td>\n",
       "    </tr>\n",
       "    <tr>\n",
       "      <td>1508</td>\n",
       "      <td>0</td>\n",
       "      <td>26</td>\n",
       "      <td>36600.0</td>\n",
       "      <td>0</td>\n",
       "      <td>0</td>\n",
       "      <td>1.0</td>\n",
       "    </tr>\n",
       "    <tr>\n",
       "      <td>3247</td>\n",
       "      <td>1</td>\n",
       "      <td>26</td>\n",
       "      <td>36600.0</td>\n",
       "      <td>2</td>\n",
       "      <td>0</td>\n",
       "      <td>2.0</td>\n",
       "    </tr>\n",
       "    <tr>\n",
       "      <td>10</td>\n",
       "      <td>1</td>\n",
       "      <td>25</td>\n",
       "      <td>36600.0</td>\n",
       "      <td>1</td>\n",
       "      <td>0</td>\n",
       "      <td>2.0</td>\n",
       "    </tr>\n",
       "  </tbody>\n",
       "</table>\n",
       "</div>"
      ],
      "text/plain": [
       "      gender  age   income  family_members  insurance_benefits  distance\n",
       "2037       1   26  36600.0               0                   0       0.0\n",
       "1508       0   26  36600.0               0                   0       1.0\n",
       "3247       1   26  36600.0               2                   0       2.0\n",
       "10         1   25  36600.0               1                   0       2.0"
      ]
     },
     "execution_count": 16,
     "metadata": {},
     "output_type": "execute_result"
    }
   ],
   "source": [
    "get_knn(df,2037,4,'manhattan') "
   ]
  },
  {
   "cell_type": "code",
   "execution_count": 17,
   "metadata": {},
   "outputs": [
    {
     "data": {
      "text/html": [
       "<div>\n",
       "<style scoped>\n",
       "    .dataframe tbody tr th:only-of-type {\n",
       "        vertical-align: middle;\n",
       "    }\n",
       "\n",
       "    .dataframe tbody tr th {\n",
       "        vertical-align: top;\n",
       "    }\n",
       "\n",
       "    .dataframe thead th {\n",
       "        text-align: right;\n",
       "    }\n",
       "</style>\n",
       "<table border=\"1\" class=\"dataframe\">\n",
       "  <thead>\n",
       "    <tr style=\"text-align: right;\">\n",
       "      <th></th>\n",
       "      <th>gender</th>\n",
       "      <th>age</th>\n",
       "      <th>income</th>\n",
       "      <th>family_members</th>\n",
       "      <th>insurance_benefits</th>\n",
       "      <th>distance</th>\n",
       "    </tr>\n",
       "  </thead>\n",
       "  <tbody>\n",
       "    <tr>\n",
       "      <td>2037</td>\n",
       "      <td>1.0</td>\n",
       "      <td>0.400000</td>\n",
       "      <td>0.463291</td>\n",
       "      <td>0.0</td>\n",
       "      <td>0</td>\n",
       "      <td>0.000000</td>\n",
       "    </tr>\n",
       "    <tr>\n",
       "      <td>3481</td>\n",
       "      <td>1.0</td>\n",
       "      <td>0.400000</td>\n",
       "      <td>0.453165</td>\n",
       "      <td>0.0</td>\n",
       "      <td>0</td>\n",
       "      <td>0.010127</td>\n",
       "    </tr>\n",
       "    <tr>\n",
       "      <td>19</td>\n",
       "      <td>1.0</td>\n",
       "      <td>0.415385</td>\n",
       "      <td>0.467089</td>\n",
       "      <td>0.0</td>\n",
       "      <td>0</td>\n",
       "      <td>0.015846</td>\n",
       "    </tr>\n",
       "    <tr>\n",
       "      <td>3135</td>\n",
       "      <td>1.0</td>\n",
       "      <td>0.384615</td>\n",
       "      <td>0.468354</td>\n",
       "      <td>0.0</td>\n",
       "      <td>0</td>\n",
       "      <td>0.016196</td>\n",
       "    </tr>\n",
       "  </tbody>\n",
       "</table>\n",
       "</div>"
      ],
      "text/plain": [
       "      gender       age    income  family_members  insurance_benefits  distance\n",
       "2037     1.0  0.400000  0.463291             0.0                   0  0.000000\n",
       "3481     1.0  0.400000  0.453165             0.0                   0  0.010127\n",
       "19       1.0  0.415385  0.467089             0.0                   0  0.015846\n",
       "3135     1.0  0.384615  0.468354             0.0                   0  0.016196"
      ]
     },
     "execution_count": 17,
     "metadata": {},
     "output_type": "execute_result"
    }
   ],
   "source": [
    "get_knn(df_scaled,2037,4,'euclidean')"
   ]
  },
  {
   "cell_type": "code",
   "execution_count": 18,
   "metadata": {},
   "outputs": [
    {
     "data": {
      "text/html": [
       "<div>\n",
       "<style scoped>\n",
       "    .dataframe tbody tr th:only-of-type {\n",
       "        vertical-align: middle;\n",
       "    }\n",
       "\n",
       "    .dataframe tbody tr th {\n",
       "        vertical-align: top;\n",
       "    }\n",
       "\n",
       "    .dataframe thead th {\n",
       "        text-align: right;\n",
       "    }\n",
       "</style>\n",
       "<table border=\"1\" class=\"dataframe\">\n",
       "  <thead>\n",
       "    <tr style=\"text-align: right;\">\n",
       "      <th></th>\n",
       "      <th>gender</th>\n",
       "      <th>age</th>\n",
       "      <th>income</th>\n",
       "      <th>family_members</th>\n",
       "      <th>insurance_benefits</th>\n",
       "      <th>distance</th>\n",
       "    </tr>\n",
       "  </thead>\n",
       "  <tbody>\n",
       "    <tr>\n",
       "      <td>2037</td>\n",
       "      <td>1.0</td>\n",
       "      <td>0.400000</td>\n",
       "      <td>0.463291</td>\n",
       "      <td>0.0</td>\n",
       "      <td>0</td>\n",
       "      <td>0.000000</td>\n",
       "    </tr>\n",
       "    <tr>\n",
       "      <td>3481</td>\n",
       "      <td>1.0</td>\n",
       "      <td>0.400000</td>\n",
       "      <td>0.453165</td>\n",
       "      <td>0.0</td>\n",
       "      <td>0</td>\n",
       "      <td>0.010127</td>\n",
       "    </tr>\n",
       "    <tr>\n",
       "      <td>19</td>\n",
       "      <td>1.0</td>\n",
       "      <td>0.415385</td>\n",
       "      <td>0.467089</td>\n",
       "      <td>0.0</td>\n",
       "      <td>0</td>\n",
       "      <td>0.019182</td>\n",
       "    </tr>\n",
       "    <tr>\n",
       "      <td>3135</td>\n",
       "      <td>1.0</td>\n",
       "      <td>0.384615</td>\n",
       "      <td>0.468354</td>\n",
       "      <td>0.0</td>\n",
       "      <td>0</td>\n",
       "      <td>0.020448</td>\n",
       "    </tr>\n",
       "  </tbody>\n",
       "</table>\n",
       "</div>"
      ],
      "text/plain": [
       "      gender       age    income  family_members  insurance_benefits  distance\n",
       "2037     1.0  0.400000  0.463291             0.0                   0  0.000000\n",
       "3481     1.0  0.400000  0.453165             0.0                   0  0.010127\n",
       "19       1.0  0.415385  0.467089             0.0                   0  0.019182\n",
       "3135     1.0  0.384615  0.468354             0.0                   0  0.020448"
      ]
     },
     "execution_count": 18,
     "metadata": {},
     "output_type": "execute_result"
    }
   ],
   "source": [
    "get_knn(df_scaled,2037,4,'manhattan') "
   ]
  },
  {
   "cell_type": "code",
   "execution_count": null,
   "metadata": {},
   "outputs": [],
   "source": []
  },
  {
   "cell_type": "markdown",
   "metadata": {},
   "source": [
    "Answers to the questions"
   ]
  },
  {
   "cell_type": "markdown",
   "metadata": {},
   "source": [
    "**Does the data being not scaled affect the kNN algorithm? If so, how does that appear?** \n",
    "\n",
    "Data being not scaled DO affect the kNN algorithm.  \n",
    "It retured results that are farther from the item .  \n",
    "get_knn(df,1,2,'euclidean') gives a result of observasion number 3920\n",
    "while\n",
    "get_knn(df_scaled,1,314,'euclidean').tail(1)\n",
    "observasion number 3920 is in the k=314  \n",
    "\n",
    "**distance is not biased towards the income variable when scaling the data**\n"
   ]
  },
  {
   "cell_type": "markdown",
   "metadata": {},
   "source": [
    "**How similar are the results using the Manhattan distance metric (regardless of the scaling)?** \n",
    "\n",
    "manhattan distance gives the same results as euclidean distance"
   ]
  },
  {
   "cell_type": "markdown",
   "metadata": {},
   "source": [
    "# Task 2. Is Customer Likely to Receive Insurance Benefit?"
   ]
  },
  {
   "cell_type": "markdown",
   "metadata": {},
   "source": [
    "In terms of machine learning we can look at this like a binary classification task."
   ]
  },
  {
   "cell_type": "markdown",
   "metadata": {},
   "source": [
    "With `insurance_benefits` being more than zero as the target, evaluate whether the kNN classification approach can do better than a dummy model.\n",
    "\n",
    "Instructions:\n",
    "- Build a KNN-based classifier and measure its quality with the F1 metric for k=1..10 for both the original data and the scaled one. That'd be interesting to see how k may influece the evaluation metric, and whether scaling the data makes any difference. You can use a ready implemention of the kNN classification algorithm from scikit-learn (check [the link](https://scikit-learn.org/stable/modules/generated/sklearn.neighbors.KNeighborsClassifier.html)) or use your own.\n",
    "- Build the dummy model which is just random for this case. It should return \"1\" with some probability. Let's test the model with four probability values: 0, the probability of paying any insurance benefit, 0.5, 1.\n",
    "\n",
    "The probability of paying any insurance benefit can be defined as\n",
    "\n",
    "$$\n",
    "P\\{\\text{insurance benefit received}\\}=\\frac{\\text{number of clients received any insurance benefit}}{\\text{total number of clients}}.\n",
    "$$\n",
    "\n",
    "Split the whole data in the 70:30 proportion for the training/testing parts."
   ]
  },
  {
   "cell_type": "code",
   "execution_count": 19,
   "metadata": {},
   "outputs": [],
   "source": [
    "# calculate the target\n",
    "\n",
    "df['insurance_benefits_received'] =df['insurance_benefits'].apply(lambda x: 1 if x >0  else 0)"
   ]
  },
  {
   "cell_type": "code",
   "execution_count": 20,
   "metadata": {},
   "outputs": [
    {
     "data": {
      "text/plain": [
       "0    4436\n",
       "1     564\n",
       "Name: insurance_benefits, dtype: int64"
      ]
     },
     "execution_count": 20,
     "metadata": {},
     "output_type": "execute_result"
    }
   ],
   "source": [
    "# check for the class imbalance with value_counts()\n",
    "\n",
    "# Change 'insurance_benefits' values 2,3,4,5 to 1\n",
    "df.loc[df['insurance_benefits'] >1,'insurance_benefits'] = 1\n",
    "df_scaled.loc[df_scaled['insurance_benefits'] >1,'insurance_benefits'] = 1\n",
    "\n",
    "df['insurance_benefits'].value_counts()"
   ]
  },
  {
   "cell_type": "markdown",
   "metadata": {},
   "source": [
    "We have an imbalance class "
   ]
  },
  {
   "cell_type": "code",
   "execution_count": 21,
   "metadata": {},
   "outputs": [],
   "source": [
    "target = df['insurance_benefits']\n",
    "features = df[feature_names]\n",
    "\n",
    "target_scaled = df_scaled['insurance_benefits']\n",
    "features_scaled = df_scaled[feature_names]\n",
    "\n",
    "# Split data into train and test\n",
    "features_train, features_test, target_train, target_test = \\\n",
    "            train_test_split(features, target, test_size=0.3, random_state=RANDOM_STATE)\n",
    "\n",
    "features_train_scaled, features_test_scaled, target_train_scaled, target_test_scaled = \\\n",
    "            train_test_split(features_scaled, target_scaled, test_size=0.3, random_state=RANDOM_STATE)\n"
   ]
  },
  {
   "cell_type": "code",
   "execution_count": 22,
   "metadata": {},
   "outputs": [],
   "source": [
    "def knn(x_train,x_test,y_train,y_test):\n",
    "    for k in range(1,11):\n",
    "        neigh = KNeighborsClassifier(n_neighbors=k)\n",
    "        neigh.fit(x_train,y_train)\n",
    "        predicted_test = neigh.predict(x_test)\n",
    "        f1_score = sklearn.metrics.f1_score(y_test, predicted_test)\n",
    "        print(f'k={k} F1: {f1_score:.2f}')"
   ]
  },
  {
   "cell_type": "code",
   "execution_count": 23,
   "metadata": {},
   "outputs": [
    {
     "name": "stdout",
     "output_type": "stream",
     "text": [
      "original data\n",
      "k=1 F1: 0.62\n",
      "k=2 F1: 0.41\n",
      "k=3 F1: 0.41\n",
      "k=4 F1: 0.28\n",
      "k=5 F1: 0.27\n",
      "k=6 F1: 0.11\n",
      "k=7 F1: 0.11\n",
      "k=8 F1: 0.07\n",
      "k=9 F1: 0.08\n",
      "k=10 F1: 0.00\n"
     ]
    }
   ],
   "source": [
    "print('original data')\n",
    "knn(features_train, features_test, target_train, target_test)"
   ]
  },
  {
   "cell_type": "code",
   "execution_count": 24,
   "metadata": {},
   "outputs": [
    {
     "name": "stdout",
     "output_type": "stream",
     "text": [
      "scaled data\n",
      "k=1 F1: 0.97\n",
      "k=2 F1: 0.93\n",
      "k=3 F1: 0.95\n",
      "k=4 F1: 0.91\n",
      "k=5 F1: 0.92\n",
      "k=6 F1: 0.90\n",
      "k=7 F1: 0.92\n",
      "k=8 F1: 0.90\n",
      "k=9 F1: 0.92\n",
      "k=10 F1: 0.88\n"
     ]
    }
   ],
   "source": [
    "print('scaled data')\n",
    "knn(features_train_scaled, features_test_scaled, target_train_scaled, target_test_scaled)"
   ]
  },
  {
   "cell_type": "markdown",
   "metadata": {},
   "source": [
    "- F1 score is higher for the scaled data\n",
    "- As k is greater the F1 score is lower"
   ]
  },
  {
   "cell_type": "code",
   "execution_count": null,
   "metadata": {},
   "outputs": [],
   "source": []
  },
  {
   "cell_type": "code",
   "execution_count": 25,
   "metadata": {},
   "outputs": [],
   "source": [
    "def eval_classifier(y_true, y_pred):\n",
    "    f1_score = sklearn.metrics.f1_score(y_true, y_pred)\n",
    "    print(f'F1: {f1_score:.2f}')\n",
    "    \n",
    "# if you have an issue with the following line, restart the kernel and run the notebook again\n",
    "    cm = sklearn.metrics.confusion_matrix(y_true, y_pred, normalize='all')\n",
    "    print('Confusion Matrix')\n",
    "    print(cm)"
   ]
  },
  {
   "cell_type": "code",
   "execution_count": 26,
   "metadata": {},
   "outputs": [],
   "source": [
    "# generating output of a random model\n",
    "\n",
    "def rnd_model_predict(P, size, seed=42):\n",
    "\n",
    "    rng = np.random.default_rng(seed=seed)\n",
    "    return rng.binomial(n=1, p=P, size=size)"
   ]
  },
  {
   "cell_type": "code",
   "execution_count": 27,
   "metadata": {},
   "outputs": [
    {
     "name": "stdout",
     "output_type": "stream",
     "text": [
      "The probability: 0.00\n",
      "F1: 0.00\n",
      "Confusion Matrix\n",
      "[[0.8872 0.    ]\n",
      " [0.1128 0.    ]]\n",
      "\n",
      "The probability: 0.11\n",
      "F1: 0.12\n",
      "Confusion Matrix\n",
      "[[0.7914 0.0958]\n",
      " [0.0994 0.0134]]\n",
      "\n",
      "The probability: 0.50\n",
      "F1: 0.20\n",
      "Confusion Matrix\n",
      "[[0.456  0.4312]\n",
      " [0.053  0.0598]]\n",
      "\n",
      "The probability: 1.00\n",
      "F1: 0.20\n",
      "Confusion Matrix\n",
      "[[0.     0.8872]\n",
      " [0.     0.1128]]\n",
      "\n"
     ]
    }
   ],
   "source": [
    "for P in [0, df['insurance_benefits_received'].sum() / len(df), 0.5, 1]:\n",
    "\n",
    "\n",
    "    print(f'The probability: {P:.2f}')\n",
    "    y_pred_rnd =pd.Series(rnd_model_predict(P,len(df)) )\n",
    "    eval_classifier(df['insurance_benefits_received'], y_pred_rnd)\n",
    "    \n",
    "    print()"
   ]
  },
  {
   "cell_type": "markdown",
   "metadata": {},
   "source": [
    "- Our model is better than the dummy model"
   ]
  },
  {
   "cell_type": "code",
   "execution_count": null,
   "metadata": {},
   "outputs": [],
   "source": []
  },
  {
   "cell_type": "code",
   "execution_count": null,
   "metadata": {},
   "outputs": [],
   "source": []
  },
  {
   "cell_type": "markdown",
   "metadata": {},
   "source": [
    "# Task 3. Regression (with Linear Regression)"
   ]
  },
  {
   "cell_type": "markdown",
   "metadata": {},
   "source": [
    "With `insurance_benefits` as the target, evaluate what RMSE would be for a Linear Regression model."
   ]
  },
  {
   "cell_type": "markdown",
   "metadata": {},
   "source": [
    "Build your own implementation of LR. For that, recall how the linear regression task's solution is formulated in terms of LA. Check RMSE for both the original data and the scaled one. Can you see any difference in RMSE between these two cases?\n",
    "\n",
    "Let's denote\n",
    "- $X$ — feature matrix, each row is a case, each column is a feature, the first column consists of unities\n",
    "- $y$ — target (a vector)\n",
    "- $\\hat{y}$ — estimated tagret (a vector)\n",
    "- $w$ — weight vector\n",
    "\n",
    "The task of linear regression in the language of matrices can be formulated as\n",
    "\n",
    "$$\n",
    "y = Xw\n",
    "$$\n",
    "\n",
    "The training objective then is to find such $w$ that it would minimize the L2-distance (MSE) between $Xw$ and $y$:\n",
    "\n",
    "$$\n",
    "\\min_w d_2(Xw, y) \\quad \\text{or} \\quad \\min_w \\text{MSE}(Xw, y)\n",
    "$$\n",
    "\n",
    "It appears that there is analytical solution for the above:\n",
    "\n",
    "$$\n",
    "w = (X^T X)^{-1} X^T y\n",
    "$$\n",
    "\n",
    "The formula above can be used to find the weights $w$ and the latter can be used to calculate predicted values\n",
    "\n",
    "$$\n",
    "\\hat{y} = X_{val}w\n",
    "$$"
   ]
  },
  {
   "cell_type": "markdown",
   "metadata": {},
   "source": [
    "Split the whole data in the 70:30 proportion for the training/validation parts. Use the RMSE metric for the model evaluation."
   ]
  },
  {
   "cell_type": "code",
   "execution_count": 28,
   "metadata": {},
   "outputs": [],
   "source": [
    "class MyLinearRegression:\n",
    "    \n",
    "    def __init__(self):\n",
    "        \n",
    "        self.weights = None\n",
    "        \n",
    "    \n",
    "    def fit(self, X, y):\n",
    "        \n",
    "        # adding the unities\n",
    "        X2 = np.append(np.ones([len(X), 1]), X, axis=1)\n",
    "        w = np.linalg.inv(X2.T.dot(X2)).dot(X2.T).dot(y)\n",
    "        self.weights = w\n",
    "\n",
    "    def predict(self, X):\n",
    "        \n",
    "        # adding the unities\n",
    "        X2 = np.append(np.ones([len(X), 1]), X, axis=1)\n",
    "        y_pred = X2.dot(self.weights)\n",
    "        \n",
    "        return y_pred"
   ]
  },
  {
   "cell_type": "code",
   "execution_count": 29,
   "metadata": {},
   "outputs": [],
   "source": [
    "def eval_regressor(y_true, y_pred):\n",
    "    \n",
    "    rmse = math.sqrt(sklearn.metrics.mean_squared_error(y_true, y_pred))\n",
    "    print(f'RMSE: {rmse:.2f}')\n",
    "    \n",
    "    r2_score = math.sqrt(sklearn.metrics.r2_score(y_true, y_pred))\n",
    "    print(f'R2: {r2_score:.2f}')    "
   ]
  },
  {
   "cell_type": "code",
   "execution_count": null,
   "metadata": {},
   "outputs": [],
   "source": []
  },
  {
   "cell_type": "code",
   "execution_count": 30,
   "metadata": {},
   "outputs": [
    {
     "name": "stdout",
     "output_type": "stream",
     "text": [
      "[-6.50583302e-01  2.47409374e-02 -7.31018901e-04  1.36927859e-07\n",
      " -6.32915410e-03]\n",
      "RMSE: 0.23\n",
      "R2: 0.66\n"
     ]
    }
   ],
   "source": [
    "X = df[['age', 'gender', 'income', 'family_members']].to_numpy()\n",
    "y = df['insurance_benefits'].to_numpy()\n",
    "\n",
    "# Split data into train and test\n",
    "X_train, X_test, y_train, y_test = train_test_split(X, y, test_size=0.3, random_state=RANDOM_STATE)\n",
    "\n",
    "lr = MyLinearRegression()\n",
    "\n",
    "lr.fit(X_train, y_train)\n",
    "print(lr.weights)\n",
    "\n",
    "y_test_pred = lr.predict(X_test)\n",
    "eval_regressor(y_test, y_test_pred)"
   ]
  },
  {
   "cell_type": "code",
   "execution_count": 31,
   "metadata": {},
   "outputs": [
    {
     "name": "stdout",
     "output_type": "stream",
     "text": [
      "[-6.50583302e-01  1.60816093e+00 -7.31018901e-04  1.08173008e-02\n",
      " -3.79749246e-02]\n",
      "RMSE: 0.23\n",
      "R2: 0.66\n"
     ]
    }
   ],
   "source": [
    "#Scaled data\n",
    "\n",
    "X = df_scaled[['age', 'gender', 'income', 'family_members']].to_numpy()\n",
    "y = df_scaled['insurance_benefits'].to_numpy()\n",
    "\n",
    "# Split data into train and test\n",
    "X_train, X_test, y_train, y_test = train_test_split(X, y, test_size=0.3, random_state=RANDOM_STATE)\n",
    "\n",
    "lr = MyLinearRegression()\n",
    "\n",
    "lr.fit(X_train, y_train)\n",
    "print(lr.weights)\n",
    "\n",
    "y_test_pred = lr.predict(X_test)\n",
    "eval_regressor(y_test, y_test_pred)"
   ]
  },
  {
   "cell_type": "markdown",
   "metadata": {},
   "source": [
    "RMSE and R2 Matrices are the same for the original data and the scaled data."
   ]
  },
  {
   "cell_type": "markdown",
   "metadata": {},
   "source": [
    "# Task 4. Obfuscating Data"
   ]
  },
  {
   "cell_type": "markdown",
   "metadata": {},
   "source": [
    "It best to obfuscate data by multiplying the numerical features (remember, they can be seen as the matrix $X$) by an invertible matrix $P$. \n",
    "\n",
    "$$\n",
    "X' = X \\times P\n",
    "$$\n",
    "\n",
    "Try to do that and check how the features' values will look like after the transformation. By the way, the intertible property is important here so make sure that $P$ is indeed invertible.\n",
    "\n",
    "You may want to review the 'Matrices and Matrix Operations -> Matrix Mupliplication' lesson to recall the rule of matrix multiplication and its implementation with NumPy."
   ]
  },
  {
   "cell_type": "code",
   "execution_count": 32,
   "metadata": {},
   "outputs": [],
   "source": [
    "personal_info_column_list = ['gender', 'age', 'income', 'family_members']\n",
    "df_pn = df[personal_info_column_list]"
   ]
  },
  {
   "cell_type": "code",
   "execution_count": 33,
   "metadata": {},
   "outputs": [],
   "source": [
    "X = df_pn.to_numpy()"
   ]
  },
  {
   "cell_type": "markdown",
   "metadata": {},
   "source": [
    "Generating a random matrix $P$."
   ]
  },
  {
   "cell_type": "code",
   "execution_count": 34,
   "metadata": {},
   "outputs": [],
   "source": [
    "rng = np.random.default_rng(seed=42)\n",
    "P = rng.random(size=(X.shape[1], X.shape[1]))"
   ]
  },
  {
   "cell_type": "markdown",
   "metadata": {},
   "source": [
    "Checking the matrix $P$ is invertible"
   ]
  },
  {
   "cell_type": "code",
   "execution_count": 35,
   "metadata": {},
   "outputs": [
    {
     "data": {
      "text/plain": [
       "0.24339135998015463"
      ]
     },
     "execution_count": 35,
     "metadata": {},
     "output_type": "execute_result"
    }
   ],
   "source": [
    "np.linalg.det(P)"
   ]
  },
  {
   "cell_type": "markdown",
   "metadata": {},
   "source": [
    "The P matrix is invertible(the determinant is not 0)"
   ]
  },
  {
   "cell_type": "code",
   "execution_count": 36,
   "metadata": {},
   "outputs": [
    {
     "data": {
      "text/plain": [
       "array([[ 1.00000000e+00,  1.85130588e-16, -2.97856902e-16,\n",
       "        -3.91584367e-17],\n",
       "       [ 6.23834470e-17,  1.00000000e+00, -7.10568689e-17,\n",
       "         8.24459807e-17],\n",
       "       [ 1.03941594e-17,  2.27454503e-17,  1.00000000e+00,\n",
       "        -5.77784356e-17],\n",
       "       [-1.02697151e-16, -1.69379178e-16, -2.49945035e-17,\n",
       "         1.00000000e+00]])"
      ]
     },
     "execution_count": 36,
     "metadata": {},
     "output_type": "execute_result"
    }
   ],
   "source": [
    "P.dot(np.linalg.inv(P))"
   ]
  },
  {
   "cell_type": "markdown",
   "metadata": {},
   "source": [
    "There are ones along the main diagonal and zeros(almost, a very small numbers close to 0) everywhere else"
   ]
  },
  {
   "cell_type": "code",
   "execution_count": 37,
   "metadata": {},
   "outputs": [
    {
     "data": {
      "text/plain": [
       "array([[ 6359.71527314, 22380.40467609, 18424.09074184, 46000.69669016],\n",
       "       [ 4873.29406479, 17160.36702982, 14125.78076133, 35253.45577301],\n",
       "       [ 2693.11742928,  9486.397744  ,  7808.83156024, 19484.86063067],\n",
       "       ...,\n",
       "       [ 4346.2234249 , 15289.24126492, 12586.16264392, 31433.50888552],\n",
       "       [ 4194.09324155, 14751.9910242 , 12144.02930637, 30323.88763426],\n",
       "       [ 5205.46827354, 18314.24814446, 15077.01370762, 37649.59295455]])"
      ]
     },
     "execution_count": 37,
     "metadata": {},
     "output_type": "execute_result"
    }
   ],
   "source": [
    "#obfuscate the data\n",
    "X_obfuscate = X.dot(P)\n",
    "X_obfuscate"
   ]
  },
  {
   "cell_type": "markdown",
   "metadata": {},
   "source": [
    "Can you guess the customers' ages or income after the transformation?"
   ]
  },
  {
   "cell_type": "markdown",
   "metadata": {},
   "source": [
    "No."
   ]
  },
  {
   "cell_type": "markdown",
   "metadata": {},
   "source": [
    "Can you recover the original data from $X'$ if you know $P$? Try to check that with calculations by moving $P$ from the right side of the formula above to the left one. The rules of matrix multiplcation are really helpful here."
   ]
  },
  {
   "cell_type": "code",
   "execution_count": 38,
   "metadata": {},
   "outputs": [
    {
     "data": {
      "text/plain": [
       "array([[ 1.00000000e+00,  4.10000000e+01,  4.96000000e+04,\n",
       "         1.00000000e+00],\n",
       "       [ 1.67952800e-12,  4.60000000e+01,  3.80000000e+04,\n",
       "         1.00000000e+00],\n",
       "       [-6.23021448e-13,  2.90000000e+01,  2.10000000e+04,\n",
       "        -2.03032656e-13],\n",
       "       ...,\n",
       "       [ 1.57996161e-12,  2.00000000e+01,  3.39000000e+04,\n",
       "         2.00000000e+00],\n",
       "       [ 1.00000000e+00,  2.20000000e+01,  3.27000000e+04,\n",
       "         3.00000000e+00],\n",
       "       [ 1.00000000e+00,  2.80000000e+01,  4.06000000e+04,\n",
       "         1.00000000e+00]])"
      ]
     },
     "execution_count": 38,
     "metadata": {},
     "output_type": "execute_result"
    }
   ],
   "source": [
    "# Getting the original data\n",
    "X_reversed = X_obfuscate.dot(np.linalg.inv(P))\n",
    "X_reversed"
   ]
  },
  {
   "cell_type": "markdown",
   "metadata": {},
   "source": [
    "Print all three cases for a few customers\n",
    "- The original data\n",
    "- The transformed one\n",
    "- The reversed (recovered) one"
   ]
  },
  {
   "cell_type": "code",
   "execution_count": 39,
   "metadata": {},
   "outputs": [],
   "source": [
    "# Print all three cases for a customer\n",
    "def show_data(index):\n",
    "    data = [[X[index][0],X[index][1],X[index][2],X[index][3]],\n",
    "            [X_obfuscate[index][0],X_obfuscate[index][1],X_obfuscate[index][2],X_obfuscate[index][3]],\n",
    "            [X_reversed[index][0],X_reversed[index][1],X_reversed[index][2],X_reversed[index][3]]\n",
    "           ]\n",
    "    return  pd.DataFrame(data,index=['original','transformed','reversed'],columns=['age', 'gender', 'income', 'family_members'])\n",
    "    "
   ]
  },
  {
   "cell_type": "code",
   "execution_count": 40,
   "metadata": {},
   "outputs": [
    {
     "data": {
      "text/html": [
       "<div>\n",
       "<style scoped>\n",
       "    .dataframe tbody tr th:only-of-type {\n",
       "        vertical-align: middle;\n",
       "    }\n",
       "\n",
       "    .dataframe tbody tr th {\n",
       "        vertical-align: top;\n",
       "    }\n",
       "\n",
       "    .dataframe thead th {\n",
       "        text-align: right;\n",
       "    }\n",
       "</style>\n",
       "<table border=\"1\" class=\"dataframe\">\n",
       "  <thead>\n",
       "    <tr style=\"text-align: right;\">\n",
       "      <th></th>\n",
       "      <th>age</th>\n",
       "      <th>gender</th>\n",
       "      <th>income</th>\n",
       "      <th>family_members</th>\n",
       "    </tr>\n",
       "  </thead>\n",
       "  <tbody>\n",
       "    <tr>\n",
       "      <td>original</td>\n",
       "      <td>0.000000e+00</td>\n",
       "      <td>46.00000</td>\n",
       "      <td>38000.000000</td>\n",
       "      <td>1.000000</td>\n",
       "    </tr>\n",
       "    <tr>\n",
       "      <td>transformed</td>\n",
       "      <td>4.873294e+03</td>\n",
       "      <td>17160.36703</td>\n",
       "      <td>14125.780761</td>\n",
       "      <td>35253.455773</td>\n",
       "    </tr>\n",
       "    <tr>\n",
       "      <td>reversed</td>\n",
       "      <td>1.679528e-12</td>\n",
       "      <td>46.00000</td>\n",
       "      <td>38000.000000</td>\n",
       "      <td>1.000000</td>\n",
       "    </tr>\n",
       "  </tbody>\n",
       "</table>\n",
       "</div>"
      ],
      "text/plain": [
       "                      age       gender        income  family_members\n",
       "original     0.000000e+00     46.00000  38000.000000        1.000000\n",
       "transformed  4.873294e+03  17160.36703  14125.780761    35253.455773\n",
       "reversed     1.679528e-12     46.00000  38000.000000        1.000000"
      ]
     },
     "execution_count": 40,
     "metadata": {},
     "output_type": "execute_result"
    }
   ],
   "source": [
    "#Show data for index=1\n",
    "show_data(1)"
   ]
  },
  {
   "cell_type": "code",
   "execution_count": 41,
   "metadata": {},
   "outputs": [
    {
     "data": {
      "text/html": [
       "<div>\n",
       "<style scoped>\n",
       "    .dataframe tbody tr th:only-of-type {\n",
       "        vertical-align: middle;\n",
       "    }\n",
       "\n",
       "    .dataframe tbody tr th {\n",
       "        vertical-align: top;\n",
       "    }\n",
       "\n",
       "    .dataframe thead th {\n",
       "        text-align: right;\n",
       "    }\n",
       "</style>\n",
       "<table border=\"1\" class=\"dataframe\">\n",
       "  <thead>\n",
       "    <tr style=\"text-align: right;\">\n",
       "      <th></th>\n",
       "      <th>age</th>\n",
       "      <th>gender</th>\n",
       "      <th>income</th>\n",
       "      <th>family_members</th>\n",
       "    </tr>\n",
       "  </thead>\n",
       "  <tbody>\n",
       "    <tr>\n",
       "      <td>original</td>\n",
       "      <td>1.000000</td>\n",
       "      <td>25.000000</td>\n",
       "      <td>36600.000000</td>\n",
       "      <td>1.000000</td>\n",
       "    </tr>\n",
       "    <tr>\n",
       "      <td>transformed</td>\n",
       "      <td>4692.731211</td>\n",
       "      <td>16509.777526</td>\n",
       "      <td>13591.538192</td>\n",
       "      <td>33940.174806</td>\n",
       "    </tr>\n",
       "    <tr>\n",
       "      <td>reversed</td>\n",
       "      <td>1.000000</td>\n",
       "      <td>25.000000</td>\n",
       "      <td>36600.000000</td>\n",
       "      <td>1.000000</td>\n",
       "    </tr>\n",
       "  </tbody>\n",
       "</table>\n",
       "</div>"
      ],
      "text/plain": [
       "                     age        gender        income  family_members\n",
       "original        1.000000     25.000000  36600.000000        1.000000\n",
       "transformed  4692.731211  16509.777526  13591.538192    33940.174806\n",
       "reversed        1.000000     25.000000  36600.000000        1.000000"
      ]
     },
     "execution_count": 41,
     "metadata": {},
     "output_type": "execute_result"
    }
   ],
   "source": [
    "#Show data for index=10\n",
    "show_data(10)"
   ]
  },
  {
   "cell_type": "code",
   "execution_count": 42,
   "metadata": {},
   "outputs": [
    {
     "data": {
      "text/html": [
       "<div>\n",
       "<style scoped>\n",
       "    .dataframe tbody tr th:only-of-type {\n",
       "        vertical-align: middle;\n",
       "    }\n",
       "\n",
       "    .dataframe tbody tr th {\n",
       "        vertical-align: top;\n",
       "    }\n",
       "\n",
       "    .dataframe thead th {\n",
       "        text-align: right;\n",
       "    }\n",
       "</style>\n",
       "<table border=\"1\" class=\"dataframe\">\n",
       "  <thead>\n",
       "    <tr style=\"text-align: right;\">\n",
       "      <th></th>\n",
       "      <th>age</th>\n",
       "      <th>gender</th>\n",
       "      <th>income</th>\n",
       "      <th>family_members</th>\n",
       "    </tr>\n",
       "  </thead>\n",
       "  <tbody>\n",
       "    <tr>\n",
       "      <td>original</td>\n",
       "      <td>0.000000e+00</td>\n",
       "      <td>21.000000</td>\n",
       "      <td>41700.000000</td>\n",
       "      <td>2.000000</td>\n",
       "    </tr>\n",
       "    <tr>\n",
       "      <td>transformed</td>\n",
       "      <td>5.345604e+03</td>\n",
       "      <td>18803.227203</td>\n",
       "      <td>15479.148373</td>\n",
       "      <td>38663.061863</td>\n",
       "    </tr>\n",
       "    <tr>\n",
       "      <td>reversed</td>\n",
       "      <td>-1.089078e-12</td>\n",
       "      <td>21.000000</td>\n",
       "      <td>41700.000000</td>\n",
       "      <td>2.000000</td>\n",
       "    </tr>\n",
       "  </tbody>\n",
       "</table>\n",
       "</div>"
      ],
      "text/plain": [
       "                      age        gender        income  family_members\n",
       "original     0.000000e+00     21.000000  41700.000000        2.000000\n",
       "transformed  5.345604e+03  18803.227203  15479.148373    38663.061863\n",
       "reversed    -1.089078e-12     21.000000  41700.000000        2.000000"
      ]
     },
     "execution_count": 42,
     "metadata": {},
     "output_type": "execute_result"
    }
   ],
   "source": [
    "#Show data for index=3\n",
    "show_data(3)"
   ]
  },
  {
   "cell_type": "code",
   "execution_count": null,
   "metadata": {},
   "outputs": [],
   "source": []
  },
  {
   "cell_type": "markdown",
   "metadata": {},
   "source": [
    "You can probably see that some values are not exactly the same as they are in the original data. What might be the reason for that?"
   ]
  },
  {
   "cell_type": "markdown",
   "metadata": {},
   "source": [
    "For a value of 0 in the original data, the reversed data gives a very small number close to 0.\n",
    "The reason for that is issue  with the floating point accuracy."
   ]
  },
  {
   "cell_type": "markdown",
   "metadata": {},
   "source": [
    "## Proof That Data Obfuscation Can Work with LR"
   ]
  },
  {
   "cell_type": "markdown",
   "metadata": {},
   "source": [
    "The regression task has been solved with linear regression in this project. Your next task is to prove _analytically_ that the given obfuscation method won't affect linear regression in terms of predicted values i.e. their values will remain the same. Can you believe that? Well, you don't have to, you should prove it!"
   ]
  },
  {
   "cell_type": "markdown",
   "metadata": {},
   "source": [
    "So, the data is obfuscated and there is $X \\times P$ instead of just $X$ now. Consequently, there are other weights $w_P$ as\n",
    "$$\n",
    "w = (X^T X)^{-1} X^T y \\quad \\Rightarrow \\quad w_P = [(XP)^T XP]^{-1} (XP)^T y\n",
    "$$\n",
    "\n",
    "How would $w$ and $w_P$ be linked if you simplify the formula for $w_P$ above? \n",
    "\n",
    "What would be predicted values with $w_P$? \n",
    "\n",
    "What does that mean for the quality of linear regression if you measure it with RMSE?\n",
    "\n",
    "Check Appendix B Properties of Matrices in the end of the notebook. There are useful formulas in there!\n",
    "\n",
    "No code is necessary in this section, only analytical explanation!"
   ]
  },
  {
   "cell_type": "markdown",
   "metadata": {},
   "source": [
    "**Answer**"
   ]
  },
  {
   "cell_type": "markdown",
   "metadata": {},
   "source": [
    "- predicted values should be the same\n",
    "- quality of linear regression should be the same \n"
   ]
  },
  {
   "cell_type": "markdown",
   "metadata": {},
   "source": [
    "**Analytical proof**"
   ]
  },
  {
   "cell_type": "markdown",
   "metadata": {},
   "source": [
    "$\n",
    "w_P = [P^TX^T XP]^{-1}P^TX^T y\n",
    "$\n",
    "\n",
    "$\n",
    "w_P = P^{-1} (X^T X)^{-1} (P^T)^{-1} P^TX^T y\n",
    "$\n",
    "\n",
    "\n",
    "$\n",
    "(P^T)^{-1} P^T =I\n",
    "$\n",
    "\n",
    "$\n",
    "w_P = P^{-1} (X^T X)^{-1} X^T y\n",
    "$\n",
    "\n",
    "$\n",
    "w = (X^T X)^{-1} X^T y\n",
    "$\n",
    "\n",
    "$\n",
    "w_P =  P^{-1}w\n",
    "$\n",
    "\n",
    "$\n",
    "\\hat{y}_P = X_Pw_P\n",
    "$\n",
    "\n",
    "$\n",
    "\\hat{y_P} = XP P^{-1}w\n",
    "$\n",
    "\n",
    "$\n",
    "P P^{-1} = I\n",
    "$\n",
    "\n",
    "$\n",
    "\\hat{y_P} = Xw\n",
    "$"
   ]
  },
  {
   "cell_type": "markdown",
   "metadata": {},
   "source": [
    "## Test Linear Regression With Data Obfuscation"
   ]
  },
  {
   "cell_type": "markdown",
   "metadata": {},
   "source": [
    "Now, let's prove Linear Regression can work computationally with the chosen obfuscation transformation.\n",
    "\n",
    "Build a procedure or a class that runs Linear Regression optionally with the obfuscation. You can use either a ready implementation of Linear Regression from sciki-learn or your own.\n",
    "\n",
    "Run Linear Regression for the original data and the obfuscated one, compare the predicted values and the RMSE, $R^2$ metric values. Is there any difference?"
   ]
  },
  {
   "cell_type": "markdown",
   "metadata": {},
   "source": [
    "**Procedure**\n",
    "\n",
    "- Create a square matrix $P$ of random numbers.\n",
    "- Check that it is invertible. If not, repeat the first point until we get an invertible matrix.\n",
    "- <! your comment here !>\n",
    "- Use $XP$ as the new feature matrix"
   ]
  },
  {
   "cell_type": "code",
   "execution_count": 43,
   "metadata": {},
   "outputs": [],
   "source": [
    "\n",
    "def Linear_Regression(features_train,features_test, target_train,target_test):\n",
    "    reg = LinearRegression()\n",
    "    reg.fit(features_train, target_train)\n",
    "    predict = reg.predict(features_test)\n",
    "    eval_regressor(target_test,predict)\n",
    "    \n",
    "\n",
    "# Generating a random matrix\n",
    "#Check that it is invertible. If not, repeat until we get an invertible matrix.\n",
    "def rnd_matrix(size, seed=42):\n",
    "    while True:\n",
    "        rng = np.random.default_rng(seed=seed)\n",
    "        P =  rng.random(size=(size,size))\n",
    "        if(np.linalg.det(P) != 0):\n",
    "            break;\n",
    "            \n",
    "    return P\n",
    "    \n",
    "#evaluation matrices\n",
    "def eval_regressor(y_true, y_pred):\n",
    "\n",
    "    rmse = math.sqrt(sklearn.metrics.mean_squared_error(y_true, y_pred))\n",
    "    print(f'RMSE: {rmse:.2f}')\n",
    "\n",
    "    r2_score = math.sqrt(sklearn.metrics.r2_score(y_true, y_pred))\n",
    "    print(f'R2: {r2_score:.2f}')   \n"
   ]
  },
  {
   "cell_type": "code",
   "execution_count": 44,
   "metadata": {},
   "outputs": [],
   "source": [
    "feature_names = ['gender', 'age', 'income', 'family_members']\n",
    "\n",
    "P = rnd_matrix(df.shape[1])\n",
    "\n",
    "#obfuscate the data\n",
    "df_obfuscate = df.dot(P)\n",
    "\n",
    "target_obfuscate = df_obfuscate.loc[:,4].to_numpy()\n",
    "features_obfuscate = df_obfuscate.loc[:,range(0,3)].to_numpy()\n",
    "\n",
    "# Split data into train and test\n",
    "features_train_obfuscate, features_test_obfuscate, target_train_obfuscate, target_test_obfuscate = \\\n",
    "            train_test_split(features_obfuscate, target_obfuscate, test_size=0.3, random_state=RANDOM_STATE)\n"
   ]
  },
  {
   "cell_type": "code",
   "execution_count": 45,
   "metadata": {},
   "outputs": [],
   "source": [
    "feature_names = ['gender', 'age', 'income', 'family_members']\n",
    "\n",
    "# Generating a random matrix\n",
    "P = rnd_matrix(df[feature_names].shape[1])\n",
    "\n",
    "#obfuscate the data\n",
    "features_obfuscate = df[feature_names].dot(P)\n",
    "\n",
    "target = df['insurance_benefits'].to_numpy()\n",
    "\n",
    "# Split data into train and test\n",
    "features_train_obfuscate, features_test_obfuscate, target_train, target_test = \\\n",
    "            train_test_split(features_obfuscate, target, test_size=0.3, random_state=RANDOM_STATE)\n"
   ]
  },
  {
   "cell_type": "code",
   "execution_count": 46,
   "metadata": {},
   "outputs": [
    {
     "name": "stdout",
     "output_type": "stream",
     "text": [
      "obfuscate data\n",
      "---------------\n",
      "RMSE: 0.23\n",
      "R2: 0.66\n",
      "\n",
      "original data\n",
      "---------------\n",
      "RMSE: 0.23\n",
      "R2: 0.66\n"
     ]
    }
   ],
   "source": [
    "print('obfuscate data')\n",
    "print('---------------')\n",
    "Linear_Regression(features_train_obfuscate, features_test_obfuscate, target_train, target_test)\n",
    "print()\n",
    "print('original data')\n",
    "print('---------------')\n",
    "Linear_Regression(features_train, features_test, target_train, target_test)"
   ]
  },
  {
   "cell_type": "markdown",
   "metadata": {},
   "source": [
    "# Conclusions"
   ]
  },
  {
   "cell_type": "markdown",
   "metadata": {},
   "source": [
    "- F1 score is higher for the scaled data\n",
    "- As k is greater the F1 score is lower\n",
    "- Our model is better than the dummy model\n",
    "-  Linear Regression can work with the original data and the obfuscated one.\n",
    "   RMSE, 𝑅2  metric values are the same for both data\n",
    "   "
   ]
  },
  {
   "cell_type": "markdown",
   "metadata": {},
   "source": [
    "# Appendices \n",
    "\n",
    "## Appendix A: Writing Formulas in Jupyter Notebooks"
   ]
  },
  {
   "cell_type": "markdown",
   "metadata": {},
   "source": [
    "You can write formulas in your Jupyter Notebook in a markup language provided by a high-quality publishing system called $\\LaTeX$ (pronounced \"Lah-tech\"), and they will look like formulas in textbooks.\n",
    "\n",
    "To put a formula in a text, put the dollar sign (\\\\$) before and after the formula's text e.g. $\\frac{1}{2} \\times \\frac{3}{2} = \\frac{3}{4}$ or $y = x^2, x \\ge 1$.\n",
    "\n",
    "If a formula should be in its own paragraph, put the double dollar sign (\\\\$\\\\$) before and after the formula text e.g.\n",
    "\n",
    "$$\n",
    "\\bar{x} = \\frac{1}{n}\\sum_{i=1}^{n} x_i.\n",
    "$$\n",
    "\n",
    "The markup language of [LaTeX](https://en.wikipedia.org/wiki/LaTeX) is very popular among people who use formulas in their articles, books and texts. It can be complex but its basics are easy. Check this two page [cheatsheet](http://tug.ctan.org/info/undergradmath/undergradmath.pdf) for learning how to compose the most common formulas."
   ]
  },
  {
   "cell_type": "markdown",
   "metadata": {},
   "source": [
    "## Appendix B: Properties of Matrices"
   ]
  },
  {
   "cell_type": "markdown",
   "metadata": {},
   "source": [
    "Matrices have many properties in Linear Algebra. A few of them are listed here which can help with the analytical proof in this project."
   ]
  },
  {
   "cell_type": "markdown",
   "metadata": {},
   "source": [
    "<table>\n",
    "<tr>\n",
    "<td>Distributivity</td><td>$A(B+C)=AB+AC$</td>\n",
    "</tr>\n",
    "<tr>\n",
    "<td>Non-commutativity</td><td>$AB \\neq BA$</td>\n",
    "</tr>\n",
    "<tr>\n",
    "<td>Associative property of multiplication</td><td>$(AB)C = A(BC)$</td>\n",
    "</tr>\n",
    "<tr>\n",
    "<td>Multiplicative identity property</td><td>$IA = AI = A$</td>\n",
    "</tr>\n",
    "<tr>\n",
    "<td></td><td>$A^{-1}A = AA^{-1} = I$\n",
    "</td>\n",
    "</tr>    \n",
    "<tr>\n",
    "<td></td><td>$(AB)^{-1} = B^{-1}A^{-1}$</td>\n",
    "</tr>    \n",
    "<tr>\n",
    "<td>Reversivity of the transpose of a product of matrices,</td><td>$(AB)^T = B^TA^T$</td>\n",
    "</tr>    \n",
    "</table>"
   ]
  },
  {
   "cell_type": "code",
   "execution_count": null,
   "metadata": {},
   "outputs": [],
   "source": []
  }
 ],
 "metadata": {
  "ExecuteTimeLog": [
   {
    "duration": 429,
    "start_time": "2021-11-02T10:28:11.063Z"
   },
   {
    "duration": 9728,
    "start_time": "2021-11-02T10:28:17.931Z"
   },
   {
    "duration": 1306,
    "start_time": "2021-11-02T10:30:05.757Z"
   },
   {
    "duration": 18,
    "start_time": "2021-11-02T10:30:13.329Z"
   },
   {
    "duration": 29,
    "start_time": "2021-11-02T10:30:29.657Z"
   },
   {
    "duration": 5,
    "start_time": "2021-11-02T10:31:00.309Z"
   },
   {
    "duration": 10,
    "start_time": "2021-11-02T10:31:01.971Z"
   },
   {
    "duration": 7,
    "start_time": "2021-11-02T10:31:04.885Z"
   },
   {
    "duration": 399,
    "start_time": "2021-11-02T10:31:48.788Z"
   },
   {
    "duration": 349,
    "start_time": "2021-11-02T11:12:03.658Z"
   },
   {
    "duration": 352,
    "start_time": "2021-11-02T11:12:11.346Z"
   },
   {
    "duration": 5,
    "start_time": "2021-11-02T11:15:16.186Z"
   },
   {
    "duration": 2,
    "start_time": "2021-11-02T11:15:18.840Z"
   },
   {
    "duration": 7,
    "start_time": "2021-11-02T11:15:27.693Z"
   },
   {
    "duration": 10,
    "start_time": "2021-11-02T11:15:33.846Z"
   },
   {
    "duration": 2,
    "start_time": "2021-11-02T11:17:58.778Z"
   },
   {
    "duration": 2,
    "start_time": "2021-11-02T11:37:39.695Z"
   },
   {
    "duration": 11,
    "start_time": "2021-11-02T11:37:44.346Z"
   },
   {
    "duration": 11,
    "start_time": "2021-11-02T11:37:46.161Z"
   },
   {
    "duration": 3,
    "start_time": "2021-11-02T11:46:24.116Z"
   },
   {
    "duration": 4,
    "start_time": "2021-11-02T11:47:46.271Z"
   },
   {
    "duration": 776,
    "start_time": "2021-11-02T11:53:23.118Z"
   },
   {
    "duration": 4,
    "start_time": "2021-11-02T11:55:51.274Z"
   },
   {
    "duration": 734,
    "start_time": "2021-11-02T11:55:54.210Z"
   },
   {
    "duration": 5,
    "start_time": "2021-11-02T11:57:20.050Z"
   },
   {
    "duration": 708,
    "start_time": "2021-11-02T11:57:22.876Z"
   },
   {
    "duration": 5,
    "start_time": "2021-11-02T11:58:05.448Z"
   },
   {
    "duration": 686,
    "start_time": "2021-11-02T11:58:09.209Z"
   },
   {
    "duration": 348,
    "start_time": "2021-11-02T12:25:49.163Z"
   },
   {
    "duration": 6,
    "start_time": "2021-11-02T12:25:53.906Z"
   },
   {
    "duration": 6,
    "start_time": "2021-11-02T12:26:12.186Z"
   },
   {
    "duration": 6,
    "start_time": "2021-11-02T12:26:24.531Z"
   },
   {
    "duration": 5,
    "start_time": "2021-11-02T12:26:59.766Z"
   },
   {
    "duration": 727,
    "start_time": "2021-11-02T12:27:13.769Z"
   },
   {
    "duration": 3147,
    "start_time": "2021-11-02T12:49:45.496Z"
   },
   {
    "duration": 4,
    "start_time": "2021-11-02T12:50:21.056Z"
   },
   {
    "duration": 1246,
    "start_time": "2021-11-02T12:50:21.062Z"
   },
   {
    "duration": 17,
    "start_time": "2021-11-02T12:50:22.310Z"
   },
   {
    "duration": 8,
    "start_time": "2021-11-02T12:50:22.329Z"
   },
   {
    "duration": 18,
    "start_time": "2021-11-02T12:50:22.339Z"
   },
   {
    "duration": 6,
    "start_time": "2021-11-02T12:50:22.359Z"
   },
   {
    "duration": 9,
    "start_time": "2021-11-02T12:50:22.368Z"
   },
   {
    "duration": 10,
    "start_time": "2021-11-02T12:50:22.379Z"
   },
   {
    "duration": 9,
    "start_time": "2021-11-02T12:50:22.391Z"
   },
   {
    "duration": 5064,
    "start_time": "2021-11-02T12:50:22.402Z"
   },
   {
    "duration": 2,
    "start_time": "2021-11-02T12:50:27.468Z"
   },
   {
    "duration": 10,
    "start_time": "2021-11-02T12:50:27.472Z"
   },
   {
    "duration": 26,
    "start_time": "2021-11-02T12:50:27.484Z"
   },
   {
    "duration": 14,
    "start_time": "2021-11-02T12:50:27.513Z"
   },
   {
    "duration": 841,
    "start_time": "2021-11-02T12:50:27.530Z"
   },
   {
    "duration": -256,
    "start_time": "2021-11-02T12:50:28.629Z"
   },
   {
    "duration": -258,
    "start_time": "2021-11-02T12:50:28.632Z"
   },
   {
    "duration": -259,
    "start_time": "2021-11-02T12:50:28.634Z"
   },
   {
    "duration": -272,
    "start_time": "2021-11-02T12:50:28.648Z"
   },
   {
    "duration": -275,
    "start_time": "2021-11-02T12:50:28.652Z"
   },
   {
    "duration": -385,
    "start_time": "2021-11-02T12:50:28.763Z"
   },
   {
    "duration": -387,
    "start_time": "2021-11-02T12:50:28.766Z"
   },
   {
    "duration": -388,
    "start_time": "2021-11-02T12:50:28.768Z"
   },
   {
    "duration": -390,
    "start_time": "2021-11-02T12:50:28.770Z"
   },
   {
    "duration": -391,
    "start_time": "2021-11-02T12:50:28.772Z"
   },
   {
    "duration": -393,
    "start_time": "2021-11-02T12:50:28.775Z"
   },
   {
    "duration": 6,
    "start_time": "2021-11-02T12:51:58.638Z"
   },
   {
    "duration": 5,
    "start_time": "2021-11-02T13:07:39.096Z"
   },
   {
    "duration": 370,
    "start_time": "2021-11-02T13:09:40.922Z"
   },
   {
    "duration": 6,
    "start_time": "2021-11-02T13:09:44.533Z"
   },
   {
    "duration": 30,
    "start_time": "2021-11-02T13:10:05.915Z"
   },
   {
    "duration": 5,
    "start_time": "2021-11-02T13:10:16.955Z"
   },
   {
    "duration": 6,
    "start_time": "2021-11-02T13:10:25.101Z"
   },
   {
    "duration": 6,
    "start_time": "2021-11-02T13:10:39.834Z"
   },
   {
    "duration": 6,
    "start_time": "2021-11-02T13:10:46.650Z"
   },
   {
    "duration": 6,
    "start_time": "2021-11-02T13:10:59.111Z"
   },
   {
    "duration": 7,
    "start_time": "2021-11-02T13:11:34.085Z"
   },
   {
    "duration": 12,
    "start_time": "2021-11-02T13:13:19.665Z"
   },
   {
    "duration": 6,
    "start_time": "2021-11-02T13:14:52.298Z"
   },
   {
    "duration": 4,
    "start_time": "2021-11-02T13:16:48.675Z"
   },
   {
    "duration": 12,
    "start_time": "2021-11-02T13:16:55.538Z"
   },
   {
    "duration": 22,
    "start_time": "2021-11-02T13:17:04.498Z"
   },
   {
    "duration": 18,
    "start_time": "2021-11-02T13:17:42.497Z"
   },
   {
    "duration": 16,
    "start_time": "2021-11-02T13:17:45.938Z"
   },
   {
    "duration": 23,
    "start_time": "2021-11-02T13:17:50.297Z"
   },
   {
    "duration": 21,
    "start_time": "2021-11-02T13:19:51.008Z"
   },
   {
    "duration": 17,
    "start_time": "2021-11-02T13:19:52.428Z"
   },
   {
    "duration": 17,
    "start_time": "2021-11-02T13:19:53.583Z"
   },
   {
    "duration": 18,
    "start_time": "2021-11-02T13:19:54.801Z"
   },
   {
    "duration": 16,
    "start_time": "2021-11-02T13:20:41.631Z"
   },
   {
    "duration": 15,
    "start_time": "2021-11-02T13:20:44.246Z"
   },
   {
    "duration": 16,
    "start_time": "2021-11-02T13:20:47.569Z"
   },
   {
    "duration": 17,
    "start_time": "2021-11-02T13:20:52.159Z"
   },
   {
    "duration": 17,
    "start_time": "2021-11-02T13:33:09.317Z"
   },
   {
    "duration": 18,
    "start_time": "2021-11-02T13:36:56.668Z"
   },
   {
    "duration": 22,
    "start_time": "2021-11-02T13:37:15.950Z"
   },
   {
    "duration": 19,
    "start_time": "2021-11-02T13:37:38.452Z"
   },
   {
    "duration": 16,
    "start_time": "2021-11-02T13:38:25.505Z"
   },
   {
    "duration": 19,
    "start_time": "2021-11-02T13:39:11.632Z"
   },
   {
    "duration": 23,
    "start_time": "2021-11-02T13:39:33.401Z"
   },
   {
    "duration": 23,
    "start_time": "2021-11-02T13:40:02.094Z"
   },
   {
    "duration": 32,
    "start_time": "2021-11-02T13:40:42.857Z"
   },
   {
    "duration": 21,
    "start_time": "2021-11-02T13:40:58.138Z"
   },
   {
    "duration": 16,
    "start_time": "2021-11-02T13:41:07.037Z"
   },
   {
    "duration": 21,
    "start_time": "2021-11-02T13:41:20.582Z"
   },
   {
    "duration": 35,
    "start_time": "2021-11-02T13:41:54.930Z"
   },
   {
    "duration": 25,
    "start_time": "2021-11-02T13:49:51.754Z"
   },
   {
    "duration": 16,
    "start_time": "2021-11-02T13:50:02.777Z"
   },
   {
    "duration": 21,
    "start_time": "2021-11-02T13:50:30.268Z"
   },
   {
    "duration": 26,
    "start_time": "2021-11-02T13:50:45.152Z"
   },
   {
    "duration": 23,
    "start_time": "2021-11-02T13:51:22.202Z"
   },
   {
    "duration": 24,
    "start_time": "2021-11-02T13:51:44.706Z"
   },
   {
    "duration": 24,
    "start_time": "2021-11-02T13:51:53.332Z"
   },
   {
    "duration": 25,
    "start_time": "2021-11-02T13:52:01.962Z"
   },
   {
    "duration": 27,
    "start_time": "2021-11-02T13:52:15.017Z"
   },
   {
    "duration": 20,
    "start_time": "2021-11-02T13:52:31.102Z"
   },
   {
    "duration": 20,
    "start_time": "2021-11-02T13:53:01.189Z"
   },
   {
    "duration": 17,
    "start_time": "2021-11-02T13:53:34.908Z"
   },
   {
    "duration": 20,
    "start_time": "2021-11-02T13:53:41.611Z"
   },
   {
    "duration": 16,
    "start_time": "2021-11-02T13:53:47.444Z"
   },
   {
    "duration": 17,
    "start_time": "2021-11-02T13:53:54.523Z"
   },
   {
    "duration": 19,
    "start_time": "2021-11-02T13:54:09.452Z"
   },
   {
    "duration": 20,
    "start_time": "2021-11-02T13:54:36.042Z"
   },
   {
    "duration": 27,
    "start_time": "2021-11-02T13:54:58.121Z"
   },
   {
    "duration": 20,
    "start_time": "2021-11-02T13:55:06.782Z"
   },
   {
    "duration": 17,
    "start_time": "2021-11-02T13:55:14.440Z"
   },
   {
    "duration": 16,
    "start_time": "2021-11-02T13:56:27.457Z"
   },
   {
    "duration": 345,
    "start_time": "2021-11-03T12:25:18.621Z"
   },
   {
    "duration": 4,
    "start_time": "2021-11-03T12:25:23.090Z"
   },
   {
    "duration": 1645,
    "start_time": "2021-11-03T12:25:23.096Z"
   },
   {
    "duration": 19,
    "start_time": "2021-11-03T12:25:24.744Z"
   },
   {
    "duration": 5,
    "start_time": "2021-11-03T12:25:24.766Z"
   },
   {
    "duration": 22,
    "start_time": "2021-11-03T12:25:24.774Z"
   },
   {
    "duration": 20,
    "start_time": "2021-11-03T12:25:24.798Z"
   },
   {
    "duration": 14,
    "start_time": "2021-11-03T12:25:24.822Z"
   },
   {
    "duration": 15,
    "start_time": "2021-11-03T12:25:24.839Z"
   },
   {
    "duration": 4,
    "start_time": "2021-11-03T12:25:24.856Z"
   },
   {
    "duration": 8545,
    "start_time": "2021-11-03T12:25:24.862Z"
   },
   {
    "duration": 5,
    "start_time": "2021-11-03T12:25:33.410Z"
   },
   {
    "duration": 7,
    "start_time": "2021-11-03T12:25:33.430Z"
   },
   {
    "duration": 25,
    "start_time": "2021-11-03T12:25:33.440Z"
   },
   {
    "duration": 25,
    "start_time": "2021-11-03T12:25:33.468Z"
   },
   {
    "duration": 42,
    "start_time": "2021-11-03T12:25:33.496Z"
   },
   {
    "duration": 31,
    "start_time": "2021-11-03T12:25:33.541Z"
   },
   {
    "duration": 32,
    "start_time": "2021-11-03T12:25:33.574Z"
   },
   {
    "duration": 37,
    "start_time": "2021-11-03T12:25:33.630Z"
   },
   {
    "duration": 127,
    "start_time": "2021-11-03T12:25:33.671Z"
   },
   {
    "duration": -635,
    "start_time": "2021-11-03T12:25:34.445Z"
   },
   {
    "duration": -648,
    "start_time": "2021-11-03T12:25:34.459Z"
   },
   {
    "duration": -649,
    "start_time": "2021-11-03T12:25:34.462Z"
   },
   {
    "duration": -657,
    "start_time": "2021-11-03T12:25:34.471Z"
   },
   {
    "duration": -674,
    "start_time": "2021-11-03T12:25:34.490Z"
   },
   {
    "duration": -676,
    "start_time": "2021-11-03T12:25:34.493Z"
   },
   {
    "duration": -705,
    "start_time": "2021-11-03T12:25:34.524Z"
   },
   {
    "duration": -711,
    "start_time": "2021-11-03T12:25:34.531Z"
   },
   {
    "duration": -716,
    "start_time": "2021-11-03T12:25:34.538Z"
   },
   {
    "duration": -717,
    "start_time": "2021-11-03T12:25:34.540Z"
   },
   {
    "duration": 332,
    "start_time": "2021-11-03T12:27:54.090Z"
   },
   {
    "duration": 29,
    "start_time": "2021-11-03T12:27:59.126Z"
   },
   {
    "duration": 45,
    "start_time": "2021-11-03T12:28:19.817Z"
   },
   {
    "duration": 48,
    "start_time": "2021-11-03T12:31:08.351Z"
   },
   {
    "duration": 34,
    "start_time": "2021-11-03T12:31:26.686Z"
   },
   {
    "duration": 40,
    "start_time": "2021-11-03T12:31:33.704Z"
   },
   {
    "duration": 36,
    "start_time": "2021-11-03T12:31:48.201Z"
   },
   {
    "duration": 37,
    "start_time": "2021-11-03T12:31:55.410Z"
   },
   {
    "duration": 33,
    "start_time": "2021-11-03T12:32:16.974Z"
   },
   {
    "duration": 32,
    "start_time": "2021-11-03T12:32:23.791Z"
   },
   {
    "duration": 29,
    "start_time": "2021-11-03T12:57:52.682Z"
   },
   {
    "duration": 32,
    "start_time": "2021-11-03T12:58:03.332Z"
   },
   {
    "duration": 22,
    "start_time": "2021-11-03T12:58:12.827Z"
   },
   {
    "duration": 22,
    "start_time": "2021-11-03T12:58:14.147Z"
   },
   {
    "duration": 24,
    "start_time": "2021-11-03T12:58:30.706Z"
   },
   {
    "duration": 22,
    "start_time": "2021-11-03T12:58:34.741Z"
   },
   {
    "duration": 12,
    "start_time": "2021-11-03T13:12:50.384Z"
   },
   {
    "duration": 345,
    "start_time": "2021-11-03T13:13:19.493Z"
   },
   {
    "duration": 272,
    "start_time": "2021-11-03T13:13:31.100Z"
   },
   {
    "duration": 10,
    "start_time": "2021-11-03T13:13:56.035Z"
   },
   {
    "duration": 6,
    "start_time": "2021-11-03T13:14:18.384Z"
   },
   {
    "duration": 8,
    "start_time": "2021-11-03T13:14:22.868Z"
   },
   {
    "duration": 8,
    "start_time": "2021-11-03T13:14:32.589Z"
   },
   {
    "duration": 8,
    "start_time": "2021-11-03T13:15:55.122Z"
   },
   {
    "duration": 41,
    "start_time": "2021-11-03T13:40:35.192Z"
   },
   {
    "duration": 11,
    "start_time": "2021-11-03T13:41:23.603Z"
   },
   {
    "duration": 8,
    "start_time": "2021-11-03T13:41:38.555Z"
   },
   {
    "duration": 10,
    "start_time": "2021-11-03T13:42:04.158Z"
   },
   {
    "duration": 7,
    "start_time": "2021-11-03T13:42:15.386Z"
   },
   {
    "duration": 4870,
    "start_time": "2021-11-03T13:43:05.941Z"
   },
   {
    "duration": 245,
    "start_time": "2021-11-03T13:43:17.038Z"
   },
   {
    "duration": 13,
    "start_time": "2021-11-03T13:43:35.957Z"
   },
   {
    "duration": 8,
    "start_time": "2021-11-03T13:43:46.254Z"
   },
   {
    "duration": 8,
    "start_time": "2021-11-03T13:44:18.747Z"
   },
   {
    "duration": 9,
    "start_time": "2021-11-03T13:45:12.706Z"
   },
   {
    "duration": 6,
    "start_time": "2021-11-03T13:46:00.325Z"
   },
   {
    "duration": 289,
    "start_time": "2021-11-03T13:49:25.718Z"
   },
   {
    "duration": 318,
    "start_time": "2021-11-03T13:49:32.278Z"
   },
   {
    "duration": 5632,
    "start_time": "2021-11-03T13:49:37.806Z"
   },
   {
    "duration": 45,
    "start_time": "2021-11-03T13:50:08.241Z"
   },
   {
    "duration": 12,
    "start_time": "2021-11-03T13:50:34.988Z"
   },
   {
    "duration": 8,
    "start_time": "2021-11-03T13:53:23.281Z"
   },
   {
    "duration": 7,
    "start_time": "2021-11-03T14:07:29.734Z"
   },
   {
    "duration": 8,
    "start_time": "2021-11-03T14:07:36.672Z"
   },
   {
    "duration": 12,
    "start_time": "2021-11-03T14:08:46.349Z"
   },
   {
    "duration": 7,
    "start_time": "2021-11-03T14:47:47.391Z"
   },
   {
    "duration": 3,
    "start_time": "2021-11-03T16:38:34.829Z"
   },
   {
    "duration": 6,
    "start_time": "2021-11-03T16:38:34.835Z"
   },
   {
    "duration": 23,
    "start_time": "2021-11-03T16:38:34.844Z"
   },
   {
    "duration": 5,
    "start_time": "2021-11-03T16:38:34.870Z"
   },
   {
    "duration": 15,
    "start_time": "2021-11-03T16:38:34.878Z"
   },
   {
    "duration": 37,
    "start_time": "2021-11-03T16:38:34.895Z"
   },
   {
    "duration": 4,
    "start_time": "2021-11-03T16:38:34.934Z"
   },
   {
    "duration": 12,
    "start_time": "2021-11-03T16:38:34.941Z"
   },
   {
    "duration": 2,
    "start_time": "2021-11-03T16:38:34.957Z"
   },
   {
    "duration": 8404,
    "start_time": "2021-11-03T16:38:34.962Z"
   },
   {
    "duration": 3,
    "start_time": "2021-11-03T16:38:43.369Z"
   },
   {
    "duration": 26,
    "start_time": "2021-11-03T16:38:43.374Z"
   },
   {
    "duration": 34,
    "start_time": "2021-11-03T16:38:43.403Z"
   },
   {
    "duration": 18,
    "start_time": "2021-11-03T16:38:43.439Z"
   },
   {
    "duration": 40,
    "start_time": "2021-11-03T16:38:43.459Z"
   },
   {
    "duration": 18,
    "start_time": "2021-11-03T16:38:43.502Z"
   },
   {
    "duration": 36,
    "start_time": "2021-11-03T16:38:43.522Z"
   },
   {
    "duration": 34,
    "start_time": "2021-11-03T16:38:43.561Z"
   },
   {
    "duration": 33,
    "start_time": "2021-11-03T16:38:43.598Z"
   },
   {
    "duration": 31,
    "start_time": "2021-11-03T16:38:43.634Z"
   },
   {
    "duration": 20,
    "start_time": "2021-11-03T16:38:43.667Z"
   },
   {
    "duration": 18,
    "start_time": "2021-11-03T16:38:43.690Z"
   },
   {
    "duration": 272,
    "start_time": "2021-11-03T16:38:43.710Z"
   },
   {
    "duration": -156,
    "start_time": "2021-11-03T16:38:44.140Z"
   },
   {
    "duration": -182,
    "start_time": "2021-11-03T16:38:44.168Z"
   },
   {
    "duration": -196,
    "start_time": "2021-11-03T16:38:44.183Z"
   },
   {
    "duration": -197,
    "start_time": "2021-11-03T16:38:44.186Z"
   },
   {
    "duration": -208,
    "start_time": "2021-11-03T16:38:44.199Z"
   },
   {
    "duration": -210,
    "start_time": "2021-11-03T16:38:44.202Z"
   },
   {
    "duration": 507,
    "start_time": "2021-11-03T17:32:29.780Z"
   },
   {
    "duration": 5,
    "start_time": "2021-11-03T17:32:34.528Z"
   },
   {
    "duration": 5,
    "start_time": "2021-11-03T17:32:35.892Z"
   },
   {
    "duration": 489,
    "start_time": "2021-11-03T17:32:37.977Z"
   },
   {
    "duration": 490,
    "start_time": "2021-11-03T17:34:51.233Z"
   },
   {
    "duration": 5,
    "start_time": "2021-11-04T07:27:53.165Z"
   },
   {
    "duration": 1570,
    "start_time": "2021-11-04T07:27:53.172Z"
   },
   {
    "duration": 18,
    "start_time": "2021-11-04T07:27:54.745Z"
   },
   {
    "duration": 6,
    "start_time": "2021-11-04T07:27:54.767Z"
   },
   {
    "duration": 22,
    "start_time": "2021-11-04T07:27:54.775Z"
   },
   {
    "duration": 9,
    "start_time": "2021-11-04T07:27:54.800Z"
   },
   {
    "duration": 7,
    "start_time": "2021-11-04T07:27:54.811Z"
   },
   {
    "duration": 12,
    "start_time": "2021-11-04T07:27:54.821Z"
   },
   {
    "duration": 3,
    "start_time": "2021-11-04T07:27:54.868Z"
   },
   {
    "duration": 8702,
    "start_time": "2021-11-04T07:27:54.873Z"
   },
   {
    "duration": 4,
    "start_time": "2021-11-04T07:28:03.577Z"
   },
   {
    "duration": 11,
    "start_time": "2021-11-04T07:28:03.584Z"
   },
   {
    "duration": 26,
    "start_time": "2021-11-04T07:28:03.597Z"
   },
   {
    "duration": 24,
    "start_time": "2021-11-04T07:28:03.625Z"
   },
   {
    "duration": 22,
    "start_time": "2021-11-04T07:28:03.669Z"
   },
   {
    "duration": 22,
    "start_time": "2021-11-04T07:28:03.694Z"
   },
   {
    "duration": 71,
    "start_time": "2021-11-04T07:28:03.719Z"
   },
   {
    "duration": 36,
    "start_time": "2021-11-04T07:28:03.793Z"
   },
   {
    "duration": 39,
    "start_time": "2021-11-04T07:28:03.831Z"
   },
   {
    "duration": 13,
    "start_time": "2021-11-04T07:28:03.873Z"
   },
   {
    "duration": 5,
    "start_time": "2021-11-04T07:28:03.889Z"
   },
   {
    "duration": 11,
    "start_time": "2021-11-04T07:28:03.896Z"
   },
   {
    "duration": 716,
    "start_time": "2021-11-04T07:28:03.913Z"
   },
   {
    "duration": -100,
    "start_time": "2021-11-04T07:28:04.731Z"
   },
   {
    "duration": -369,
    "start_time": "2021-11-04T07:28:05.002Z"
   },
   {
    "duration": -383,
    "start_time": "2021-11-04T07:28:05.017Z"
   },
   {
    "duration": -386,
    "start_time": "2021-11-04T07:28:05.021Z"
   },
   {
    "duration": -388,
    "start_time": "2021-11-04T07:28:05.025Z"
   },
   {
    "duration": -390,
    "start_time": "2021-11-04T07:28:05.028Z"
   },
   {
    "duration": 8,
    "start_time": "2021-11-04T07:34:39.339Z"
   },
   {
    "duration": 5,
    "start_time": "2021-11-04T07:35:08.304Z"
   },
   {
    "duration": 5,
    "start_time": "2021-11-04T07:35:23.746Z"
   },
   {
    "duration": 4,
    "start_time": "2021-11-04T07:42:47.330Z"
   },
   {
    "duration": 654,
    "start_time": "2021-11-04T07:42:49.845Z"
   },
   {
    "duration": 680,
    "start_time": "2021-11-04T07:46:30.646Z"
   },
   {
    "duration": 617,
    "start_time": "2021-11-04T07:46:50.765Z"
   },
   {
    "duration": 5,
    "start_time": "2021-11-04T07:47:22.235Z"
   },
   {
    "duration": 708,
    "start_time": "2021-11-04T07:47:24.963Z"
   },
   {
    "duration": 4,
    "start_time": "2021-11-04T07:54:07.344Z"
   },
   {
    "duration": 324,
    "start_time": "2021-11-04T07:54:11.792Z"
   },
   {
    "duration": 592,
    "start_time": "2021-11-04T07:54:26.047Z"
   },
   {
    "duration": 561,
    "start_time": "2021-11-04T07:55:00.432Z"
   },
   {
    "duration": 322,
    "start_time": "2021-11-04T07:56:09.024Z"
   },
   {
    "duration": 732,
    "start_time": "2021-11-04T07:56:21.050Z"
   },
   {
    "duration": 304,
    "start_time": "2021-11-04T07:56:47.177Z"
   },
   {
    "duration": 841,
    "start_time": "2021-11-04T07:57:40.338Z"
   },
   {
    "duration": 66119,
    "start_time": "2021-11-04T07:58:40.771Z"
   },
   {
    "duration": 5,
    "start_time": "2021-11-04T08:02:08.643Z"
   },
   {
    "duration": 737,
    "start_time": "2021-11-04T08:02:10.109Z"
   },
   {
    "duration": 575,
    "start_time": "2021-11-04T08:03:53.269Z"
   },
   {
    "duration": 6,
    "start_time": "2021-11-04T08:32:05.983Z"
   },
   {
    "duration": 95,
    "start_time": "2021-11-04T08:32:56.845Z"
   },
   {
    "duration": 309,
    "start_time": "2021-11-04T08:33:04.368Z"
   },
   {
    "duration": 10,
    "start_time": "2021-11-04T08:34:48.178Z"
   },
   {
    "duration": 723,
    "start_time": "2021-11-04T08:43:06.700Z"
   },
   {
    "duration": 660,
    "start_time": "2021-11-04T08:53:02.600Z"
   },
   {
    "duration": 4,
    "start_time": "2021-11-04T08:54:22.780Z"
   },
   {
    "duration": 1542,
    "start_time": "2021-11-04T08:54:22.787Z"
   },
   {
    "duration": 18,
    "start_time": "2021-11-04T08:54:24.332Z"
   },
   {
    "duration": 7,
    "start_time": "2021-11-04T08:54:24.353Z"
   },
   {
    "duration": 20,
    "start_time": "2021-11-04T08:54:24.362Z"
   },
   {
    "duration": 10,
    "start_time": "2021-11-04T08:54:24.385Z"
   },
   {
    "duration": 10,
    "start_time": "2021-11-04T08:54:24.399Z"
   },
   {
    "duration": 11,
    "start_time": "2021-11-04T08:54:24.412Z"
   },
   {
    "duration": 3,
    "start_time": "2021-11-04T08:54:24.426Z"
   },
   {
    "duration": 8532,
    "start_time": "2021-11-04T08:54:24.431Z"
   },
   {
    "duration": 4,
    "start_time": "2021-11-04T08:54:32.965Z"
   },
   {
    "duration": 12,
    "start_time": "2021-11-04T08:54:32.971Z"
   },
   {
    "duration": 20,
    "start_time": "2021-11-04T08:54:32.985Z"
   },
   {
    "duration": 14,
    "start_time": "2021-11-04T08:54:33.008Z"
   },
   {
    "duration": 55,
    "start_time": "2021-11-04T08:54:33.024Z"
   },
   {
    "duration": 22,
    "start_time": "2021-11-04T08:54:33.081Z"
   },
   {
    "duration": 33,
    "start_time": "2021-11-04T08:54:33.105Z"
   },
   {
    "duration": 34,
    "start_time": "2021-11-04T08:54:33.168Z"
   },
   {
    "duration": 6,
    "start_time": "2021-11-04T08:54:33.207Z"
   },
   {
    "duration": 12,
    "start_time": "2021-11-04T08:54:33.215Z"
   },
   {
    "duration": 10,
    "start_time": "2021-11-04T08:54:52.118Z"
   },
   {
    "duration": 5,
    "start_time": "2021-11-04T08:54:56.070Z"
   },
   {
    "duration": 766,
    "start_time": "2021-11-04T08:54:58.479Z"
   },
   {
    "duration": 5,
    "start_time": "2021-11-04T09:09:02.977Z"
   },
   {
    "duration": 1714,
    "start_time": "2021-11-04T09:09:02.984Z"
   },
   {
    "duration": 21,
    "start_time": "2021-11-04T09:09:04.700Z"
   },
   {
    "duration": 7,
    "start_time": "2021-11-04T09:09:04.724Z"
   },
   {
    "duration": 39,
    "start_time": "2021-11-04T09:09:04.735Z"
   },
   {
    "duration": 9,
    "start_time": "2021-11-04T09:09:04.777Z"
   },
   {
    "duration": 12,
    "start_time": "2021-11-04T09:09:04.790Z"
   },
   {
    "duration": 13,
    "start_time": "2021-11-04T09:09:04.805Z"
   },
   {
    "duration": 3,
    "start_time": "2021-11-04T09:09:04.821Z"
   },
   {
    "duration": 8550,
    "start_time": "2021-11-04T09:09:04.826Z"
   },
   {
    "duration": 5,
    "start_time": "2021-11-04T09:09:13.379Z"
   },
   {
    "duration": 8,
    "start_time": "2021-11-04T09:09:13.386Z"
   },
   {
    "duration": 21,
    "start_time": "2021-11-04T09:09:13.397Z"
   },
   {
    "duration": 50,
    "start_time": "2021-11-04T09:09:13.421Z"
   },
   {
    "duration": 23,
    "start_time": "2021-11-04T09:09:13.473Z"
   },
   {
    "duration": 21,
    "start_time": "2021-11-04T09:09:13.498Z"
   },
   {
    "duration": 72,
    "start_time": "2021-11-04T09:09:13.522Z"
   },
   {
    "duration": 33,
    "start_time": "2021-11-04T09:09:13.597Z"
   },
   {
    "duration": 36,
    "start_time": "2021-11-04T09:09:13.635Z"
   },
   {
    "duration": 19,
    "start_time": "2021-11-04T09:09:13.674Z"
   },
   {
    "duration": 9,
    "start_time": "2021-11-04T09:09:13.696Z"
   },
   {
    "duration": 537,
    "start_time": "2021-11-04T09:09:19.028Z"
   },
   {
    "duration": 5,
    "start_time": "2021-11-04T09:09:25.469Z"
   },
   {
    "duration": 636,
    "start_time": "2021-11-04T09:09:28.044Z"
   },
   {
    "duration": 443,
    "start_time": "2021-11-04T09:10:22.865Z"
   },
   {
    "duration": 818,
    "start_time": "2021-11-04T09:11:03.114Z"
   },
   {
    "duration": 785,
    "start_time": "2021-11-04T09:13:30.833Z"
   },
   {
    "duration": 15,
    "start_time": "2021-11-04T09:15:42.104Z"
   },
   {
    "duration": 125,
    "start_time": "2021-11-04T09:17:21.331Z"
   },
   {
    "duration": 5,
    "start_time": "2021-11-04T09:17:30.204Z"
   },
   {
    "duration": 946,
    "start_time": "2021-11-04T09:17:49.682Z"
   },
   {
    "duration": 5,
    "start_time": "2021-11-04T09:21:33.286Z"
   },
   {
    "duration": 1169,
    "start_time": "2021-11-04T09:21:34.776Z"
   },
   {
    "duration": 665,
    "start_time": "2021-11-04T09:22:09.717Z"
   },
   {
    "duration": 841,
    "start_time": "2021-11-04T09:39:21.481Z"
   },
   {
    "duration": 712,
    "start_time": "2021-11-04T09:39:50.196Z"
   },
   {
    "duration": 8,
    "start_time": "2021-11-04T09:41:17.023Z"
   },
   {
    "duration": 7,
    "start_time": "2021-11-04T09:41:23.207Z"
   },
   {
    "duration": 8,
    "start_time": "2021-11-04T09:41:37.724Z"
   },
   {
    "duration": 9,
    "start_time": "2021-11-04T09:41:49.775Z"
   },
   {
    "duration": 9,
    "start_time": "2021-11-04T09:43:07.576Z"
   },
   {
    "duration": 11,
    "start_time": "2021-11-04T09:43:33.827Z"
   },
   {
    "duration": 18,
    "start_time": "2021-11-04T09:44:18.905Z"
   },
   {
    "duration": 10,
    "start_time": "2021-11-04T09:44:41.850Z"
   },
   {
    "duration": 16,
    "start_time": "2021-11-04T09:44:53.499Z"
   },
   {
    "duration": 8,
    "start_time": "2021-11-04T09:44:57.845Z"
   },
   {
    "duration": 1090,
    "start_time": "2021-11-04T09:45:12.077Z"
   },
   {
    "duration": 6,
    "start_time": "2021-11-04T10:21:05.787Z"
   },
   {
    "duration": 6,
    "start_time": "2021-11-04T10:21:07.181Z"
   },
   {
    "duration": 672,
    "start_time": "2021-11-04T10:21:09.714Z"
   },
   {
    "duration": 5,
    "start_time": "2021-11-04T10:22:38.924Z"
   },
   {
    "duration": 895,
    "start_time": "2021-11-04T10:22:41.272Z"
   },
   {
    "duration": 8,
    "start_time": "2021-11-04T10:42:44.474Z"
   },
   {
    "duration": 5,
    "start_time": "2021-11-04T10:42:49.155Z"
   },
   {
    "duration": 797,
    "start_time": "2021-11-04T10:43:19.938Z"
   },
   {
    "duration": 7,
    "start_time": "2021-11-04T10:43:39.994Z"
   },
   {
    "duration": 575,
    "start_time": "2021-11-04T10:43:42.083Z"
   },
   {
    "duration": 7,
    "start_time": "2021-11-04T10:51:50.151Z"
   },
   {
    "duration": 810,
    "start_time": "2021-11-04T10:51:56.641Z"
   },
   {
    "duration": 9,
    "start_time": "2021-11-04T10:52:42.544Z"
   },
   {
    "duration": 576,
    "start_time": "2021-11-04T10:52:49.883Z"
   },
   {
    "duration": 7,
    "start_time": "2021-11-04T10:59:14.884Z"
   },
   {
    "duration": 1111,
    "start_time": "2021-11-04T10:59:20.444Z"
   },
   {
    "duration": 7,
    "start_time": "2021-11-04T11:04:50.002Z"
   },
   {
    "duration": 668,
    "start_time": "2021-11-04T11:04:52.298Z"
   },
   {
    "duration": 6,
    "start_time": "2021-11-04T11:06:30.922Z"
   },
   {
    "duration": 741,
    "start_time": "2021-11-04T11:06:34.125Z"
   },
   {
    "duration": 668,
    "start_time": "2021-11-04T11:08:10.925Z"
   },
   {
    "duration": 5,
    "start_time": "2021-11-04T11:08:17.855Z"
   },
   {
    "duration": 20,
    "start_time": "2021-11-04T11:08:26.797Z"
   },
   {
    "duration": 18,
    "start_time": "2021-11-04T11:13:22.130Z"
   },
   {
    "duration": 16,
    "start_time": "2021-11-04T11:13:49.856Z"
   },
   {
    "duration": 20,
    "start_time": "2021-11-04T11:13:56.032Z"
   },
   {
    "duration": 13,
    "start_time": "2021-11-04T11:14:42.647Z"
   },
   {
    "duration": 14,
    "start_time": "2021-11-04T11:14:44.980Z"
   },
   {
    "duration": 19,
    "start_time": "2021-11-04T11:15:45.432Z"
   },
   {
    "duration": 4,
    "start_time": "2021-11-04T11:15:45.454Z"
   },
   {
    "duration": 23,
    "start_time": "2021-11-04T11:15:45.462Z"
   },
   {
    "duration": 8,
    "start_time": "2021-11-04T11:15:45.488Z"
   },
   {
    "duration": 24,
    "start_time": "2021-11-04T11:15:45.499Z"
   },
   {
    "duration": 15,
    "start_time": "2021-11-04T11:15:45.526Z"
   },
   {
    "duration": 11,
    "start_time": "2021-11-04T11:15:45.566Z"
   },
   {
    "duration": 14,
    "start_time": "2021-11-04T11:15:45.582Z"
   },
   {
    "duration": 4,
    "start_time": "2021-11-04T11:15:45.600Z"
   },
   {
    "duration": 9158,
    "start_time": "2021-11-04T11:15:45.606Z"
   },
   {
    "duration": 3,
    "start_time": "2021-11-04T11:15:54.767Z"
   },
   {
    "duration": 9,
    "start_time": "2021-11-04T11:15:54.773Z"
   },
   {
    "duration": 21,
    "start_time": "2021-11-04T11:15:54.784Z"
   },
   {
    "duration": 14,
    "start_time": "2021-11-04T11:15:54.807Z"
   },
   {
    "duration": 50,
    "start_time": "2021-11-04T11:15:54.824Z"
   },
   {
    "duration": 21,
    "start_time": "2021-11-04T11:15:54.876Z"
   },
   {
    "duration": 45,
    "start_time": "2021-11-04T11:15:54.900Z"
   },
   {
    "duration": 51,
    "start_time": "2021-11-04T11:15:54.948Z"
   },
   {
    "duration": 11,
    "start_time": "2021-11-04T11:15:55.002Z"
   },
   {
    "duration": 20,
    "start_time": "2021-11-04T11:15:55.015Z"
   },
   {
    "duration": 37,
    "start_time": "2021-11-04T11:15:55.037Z"
   },
   {
    "duration": 13,
    "start_time": "2021-11-04T11:15:55.076Z"
   },
   {
    "duration": 818,
    "start_time": "2021-11-04T11:15:55.093Z"
   },
   {
    "duration": 938,
    "start_time": "2021-11-04T11:15:55.914Z"
   },
   {
    "duration": 34,
    "start_time": "2021-11-04T11:15:56.855Z"
   },
   {
    "duration": 5,
    "start_time": "2021-11-04T11:15:56.892Z"
   },
   {
    "duration": 580,
    "start_time": "2021-11-04T11:15:56.899Z"
   },
   {
    "duration": 51,
    "start_time": "2021-11-04T11:15:57.431Z"
   },
   {
    "duration": 29,
    "start_time": "2021-11-04T11:15:57.455Z"
   },
   {
    "duration": 7,
    "start_time": "2021-11-04T11:16:38.598Z"
   },
   {
    "duration": 6,
    "start_time": "2021-11-04T11:16:40.557Z"
   },
   {
    "duration": 14,
    "start_time": "2021-11-04T11:16:43.490Z"
   },
   {
    "duration": 14,
    "start_time": "2021-11-04T11:16:48.198Z"
   },
   {
    "duration": 14,
    "start_time": "2021-11-04T11:25:01.682Z"
   },
   {
    "duration": 5,
    "start_time": "2021-11-04T11:39:37.005Z"
   },
   {
    "duration": 4,
    "start_time": "2021-11-04T11:39:39.278Z"
   },
   {
    "duration": 6,
    "start_time": "2021-11-04T11:39:51.172Z"
   },
   {
    "duration": 18,
    "start_time": "2021-11-04T11:40:06.062Z"
   },
   {
    "duration": 6,
    "start_time": "2021-11-04T11:40:19.142Z"
   },
   {
    "duration": 5,
    "start_time": "2021-11-04T11:40:47.128Z"
   },
   {
    "duration": 7,
    "start_time": "2021-11-04T11:40:56.712Z"
   },
   {
    "duration": 5,
    "start_time": "2021-11-04T11:41:11.023Z"
   },
   {
    "duration": 6,
    "start_time": "2021-11-04T11:41:18.134Z"
   },
   {
    "duration": 7,
    "start_time": "2021-11-04T12:22:01.720Z"
   },
   {
    "duration": 8,
    "start_time": "2021-11-04T12:35:18.521Z"
   },
   {
    "duration": 7,
    "start_time": "2021-11-04T12:35:31.273Z"
   },
   {
    "duration": 6,
    "start_time": "2021-11-04T12:35:45.931Z"
   },
   {
    "duration": 4,
    "start_time": "2021-11-04T12:38:53.324Z"
   },
   {
    "duration": 6,
    "start_time": "2021-11-04T12:39:11.908Z"
   },
   {
    "duration": 6,
    "start_time": "2021-11-04T12:39:28.108Z"
   },
   {
    "duration": 6,
    "start_time": "2021-11-04T12:39:54.452Z"
   },
   {
    "duration": 8,
    "start_time": "2021-11-04T12:41:06.902Z"
   },
   {
    "duration": 8,
    "start_time": "2021-11-04T12:41:29.929Z"
   },
   {
    "duration": 873,
    "start_time": "2021-11-04T12:43:34.936Z"
   },
   {
    "duration": 366,
    "start_time": "2021-11-04T12:51:22.967Z"
   },
   {
    "duration": 6,
    "start_time": "2021-11-04T12:51:36.845Z"
   },
   {
    "duration": 7,
    "start_time": "2021-11-04T13:01:51.128Z"
   },
   {
    "duration": 7,
    "start_time": "2021-11-04T13:02:12.581Z"
   },
   {
    "duration": 16,
    "start_time": "2021-11-04T13:02:34.432Z"
   },
   {
    "duration": 9,
    "start_time": "2021-11-04T13:06:44.762Z"
   },
   {
    "duration": 7,
    "start_time": "2021-11-04T13:07:28.836Z"
   },
   {
    "duration": 17,
    "start_time": "2021-11-04T13:09:36.709Z"
   },
   {
    "duration": 5,
    "start_time": "2021-11-04T13:28:01.439Z"
   },
   {
    "duration": 6,
    "start_time": "2021-11-04T13:28:32.445Z"
   },
   {
    "duration": 107,
    "start_time": "2021-11-04T13:34:52.751Z"
   },
   {
    "duration": 147,
    "start_time": "2021-11-04T13:35:06.860Z"
   },
   {
    "duration": 272,
    "start_time": "2021-11-04T13:35:22.660Z"
   },
   {
    "duration": 6,
    "start_time": "2021-11-04T13:35:51.333Z"
   },
   {
    "duration": 17,
    "start_time": "2021-11-04T13:35:58.308Z"
   },
   {
    "duration": 17,
    "start_time": "2021-11-04T13:36:58.335Z"
   },
   {
    "duration": 5,
    "start_time": "2021-11-04T13:38:26.023Z"
   },
   {
    "duration": 6,
    "start_time": "2021-11-04T13:38:42.720Z"
   },
   {
    "duration": 6,
    "start_time": "2021-11-04T13:38:48.958Z"
   },
   {
    "duration": 5,
    "start_time": "2021-11-04T13:38:57.214Z"
   },
   {
    "duration": 17,
    "start_time": "2021-11-04T13:41:54.283Z"
   },
   {
    "duration": 17,
    "start_time": "2021-11-04T13:42:28.948Z"
   },
   {
    "duration": 17,
    "start_time": "2021-11-04T13:49:56.105Z"
   },
   {
    "duration": 15,
    "start_time": "2021-11-04T13:51:20.761Z"
   },
   {
    "duration": 6,
    "start_time": "2021-11-04T13:52:45.933Z"
   },
   {
    "duration": 5,
    "start_time": "2021-11-04T13:52:55.502Z"
   },
   {
    "duration": 96,
    "start_time": "2021-11-04T13:53:16.956Z"
   },
   {
    "duration": 6,
    "start_time": "2021-11-04T13:53:24.660Z"
   },
   {
    "duration": 17,
    "start_time": "2021-11-04T13:53:26.081Z"
   },
   {
    "duration": 12,
    "start_time": "2021-11-04T13:53:38.419Z"
   },
   {
    "duration": 13,
    "start_time": "2021-11-04T13:53:48.323Z"
   },
   {
    "duration": 160,
    "start_time": "2021-11-04T14:29:36.634Z"
   },
   {
    "duration": 6,
    "start_time": "2021-11-04T14:29:41.910Z"
   },
   {
    "duration": 4,
    "start_time": "2021-11-05T07:45:22.972Z"
   },
   {
    "duration": 1508,
    "start_time": "2021-11-05T07:45:22.978Z"
   },
   {
    "duration": 20,
    "start_time": "2021-11-05T07:45:24.489Z"
   },
   {
    "duration": 6,
    "start_time": "2021-11-05T07:45:24.512Z"
   },
   {
    "duration": 19,
    "start_time": "2021-11-05T07:45:24.520Z"
   },
   {
    "duration": 25,
    "start_time": "2021-11-05T07:45:24.542Z"
   },
   {
    "duration": 7,
    "start_time": "2021-11-05T07:45:24.570Z"
   },
   {
    "duration": 11,
    "start_time": "2021-11-05T07:45:24.580Z"
   },
   {
    "duration": 11,
    "start_time": "2021-11-05T07:45:24.593Z"
   },
   {
    "duration": 8132,
    "start_time": "2021-11-05T07:45:24.606Z"
   },
   {
    "duration": 3,
    "start_time": "2021-11-05T07:45:32.741Z"
   },
   {
    "duration": 20,
    "start_time": "2021-11-05T07:45:32.746Z"
   },
   {
    "duration": 30,
    "start_time": "2021-11-05T07:45:32.769Z"
   },
   {
    "duration": 13,
    "start_time": "2021-11-05T07:45:32.802Z"
   },
   {
    "duration": 19,
    "start_time": "2021-11-05T07:45:32.817Z"
   },
   {
    "duration": 20,
    "start_time": "2021-11-05T07:45:32.860Z"
   },
   {
    "duration": 30,
    "start_time": "2021-11-05T07:45:32.882Z"
   },
   {
    "duration": 56,
    "start_time": "2021-11-05T07:45:32.915Z"
   },
   {
    "duration": 7,
    "start_time": "2021-11-05T07:45:32.975Z"
   },
   {
    "duration": 23,
    "start_time": "2021-11-05T07:45:32.984Z"
   },
   {
    "duration": 15,
    "start_time": "2021-11-05T07:45:33.009Z"
   },
   {
    "duration": 35,
    "start_time": "2021-11-05T07:45:33.026Z"
   },
   {
    "duration": 710,
    "start_time": "2021-11-05T07:45:33.063Z"
   },
   {
    "duration": 926,
    "start_time": "2021-11-05T07:45:33.775Z"
   },
   {
    "duration": 578,
    "start_time": "2021-11-05T08:45:17.715Z"
   },
   {
    "duration": 5,
    "start_time": "2021-11-05T08:45:25.757Z"
   },
   {
    "duration": 4,
    "start_time": "2021-11-05T08:45:27.500Z"
   },
   {
    "duration": 5,
    "start_time": "2021-11-05T08:45:29.740Z"
   },
   {
    "duration": 8,
    "start_time": "2021-11-05T08:45:31.428Z"
   },
   {
    "duration": 7,
    "start_time": "2021-11-05T08:45:44.524Z"
   },
   {
    "duration": 6,
    "start_time": "2021-11-05T08:51:29.502Z"
   },
   {
    "duration": 6,
    "start_time": "2021-11-05T09:16:48.044Z"
   },
   {
    "duration": 9,
    "start_time": "2021-11-05T09:17:28.710Z"
   },
   {
    "duration": 6,
    "start_time": "2021-11-05T09:18:48.090Z"
   },
   {
    "duration": 13,
    "start_time": "2021-11-05T09:18:50.584Z"
   },
   {
    "duration": 13,
    "start_time": "2021-11-05T09:19:16.343Z"
   },
   {
    "duration": 14,
    "start_time": "2021-11-05T09:19:18.481Z"
   },
   {
    "duration": 6,
    "start_time": "2021-11-05T15:38:39.500Z"
   },
   {
    "duration": 380,
    "start_time": "2021-11-05T15:39:17.949Z"
   },
   {
    "duration": 6,
    "start_time": "2021-11-05T15:39:31.798Z"
   },
   {
    "duration": 2995,
    "start_time": "2021-11-05T15:39:38.111Z"
   },
   {
    "duration": 6,
    "start_time": "2021-11-05T15:40:11.032Z"
   },
   {
    "duration": 2973,
    "start_time": "2021-11-05T15:40:12.949Z"
   },
   {
    "duration": 6,
    "start_time": "2021-11-05T15:44:51.539Z"
   },
   {
    "duration": 6,
    "start_time": "2021-11-05T15:45:39.066Z"
   },
   {
    "duration": 395,
    "start_time": "2021-11-05T15:45:42.616Z"
   },
   {
    "duration": 3092,
    "start_time": "2021-11-05T15:45:52.458Z"
   },
   {
    "duration": 6,
    "start_time": "2021-11-05T15:46:22.884Z"
   },
   {
    "duration": 3033,
    "start_time": "2021-11-05T15:46:25.502Z"
   },
   {
    "duration": 5,
    "start_time": "2021-11-05T15:46:46.600Z"
   },
   {
    "duration": 119,
    "start_time": "2021-11-05T15:46:59.125Z"
   },
   {
    "duration": 5,
    "start_time": "2021-11-05T15:47:02.083Z"
   },
   {
    "duration": 7,
    "start_time": "2021-11-05T15:49:09.514Z"
   },
   {
    "duration": 7,
    "start_time": "2021-11-05T15:53:38.594Z"
   },
   {
    "duration": 3383,
    "start_time": "2021-11-05T15:53:48.897Z"
   },
   {
    "duration": 6,
    "start_time": "2021-11-05T16:06:50.223Z"
   },
   {
    "duration": 2879,
    "start_time": "2021-11-05T16:06:52.255Z"
   },
   {
    "duration": 362,
    "start_time": "2021-11-05T16:40:11.933Z"
   },
   {
    "duration": 7,
    "start_time": "2021-11-05T16:40:16.814Z"
   },
   {
    "duration": 4,
    "start_time": "2021-11-05T16:40:18.293Z"
   },
   {
    "duration": 8,
    "start_time": "2021-11-05T16:40:26.194Z"
   },
   {
    "duration": 6,
    "start_time": "2021-11-05T16:40:59.379Z"
   },
   {
    "duration": 6,
    "start_time": "2021-11-05T16:41:27.948Z"
   },
   {
    "duration": 4,
    "start_time": "2021-11-05T16:41:30.219Z"
   },
   {
    "duration": 7,
    "start_time": "2021-11-05T16:41:37.716Z"
   },
   {
    "duration": 6,
    "start_time": "2021-11-05T16:41:56.941Z"
   },
   {
    "duration": 7,
    "start_time": "2021-11-05T16:43:41.749Z"
   },
   {
    "duration": 8,
    "start_time": "2021-11-05T16:45:04.463Z"
   },
   {
    "duration": 7799,
    "start_time": "2021-11-05T17:31:20.500Z"
   },
   {
    "duration": 16,
    "start_time": "2021-11-05T17:32:30.004Z"
   },
   {
    "duration": 19,
    "start_time": "2021-11-05T17:33:26.287Z"
   },
   {
    "duration": 2671,
    "start_time": "2021-11-05T17:37:04.573Z"
   },
   {
    "duration": 11,
    "start_time": "2021-11-05T17:39:17.388Z"
   },
   {
    "duration": 6,
    "start_time": "2021-11-05T17:39:24.692Z"
   },
   {
    "duration": 7,
    "start_time": "2021-11-05T17:39:49.921Z"
   },
   {
    "duration": 17,
    "start_time": "2021-11-05T17:40:08.555Z"
   },
   {
    "duration": 5,
    "start_time": "2021-11-05T17:40:18.251Z"
   },
   {
    "duration": 17,
    "start_time": "2021-11-05T17:40:28.324Z"
   },
   {
    "duration": 10,
    "start_time": "2021-11-05T17:40:46.213Z"
   },
   {
    "duration": 7,
    "start_time": "2021-11-05T17:40:52.215Z"
   },
   {
    "duration": 10,
    "start_time": "2021-11-05T17:41:15.828Z"
   },
   {
    "duration": 6,
    "start_time": "2021-11-05T17:41:18.839Z"
   },
   {
    "duration": 7,
    "start_time": "2021-11-05T17:41:21.733Z"
   },
   {
    "duration": 17,
    "start_time": "2021-11-05T17:41:32.923Z"
   },
   {
    "duration": 20,
    "start_time": "2021-11-05T17:42:23.351Z"
   },
   {
    "duration": 13,
    "start_time": "2021-11-05T17:42:33.151Z"
   },
   {
    "duration": 6,
    "start_time": "2021-11-05T17:47:03.347Z"
   },
   {
    "duration": 10,
    "start_time": "2021-11-05T17:48:10.076Z"
   },
   {
    "duration": 6,
    "start_time": "2021-11-05T17:48:17.738Z"
   },
   {
    "duration": 13,
    "start_time": "2021-11-05T17:48:49.757Z"
   },
   {
    "duration": 6,
    "start_time": "2021-11-05T17:49:01.904Z"
   },
   {
    "duration": 7,
    "start_time": "2021-11-05T17:49:25.222Z"
   },
   {
    "duration": 6,
    "start_time": "2021-11-05T17:49:39.723Z"
   },
   {
    "duration": 8,
    "start_time": "2021-11-05T17:54:03.986Z"
   },
   {
    "duration": 387,
    "start_time": "2021-11-05T17:55:58.280Z"
   },
   {
    "duration": 10,
    "start_time": "2021-11-05T17:56:05.193Z"
   },
   {
    "duration": 7,
    "start_time": "2021-11-05T18:08:15.951Z"
   },
   {
    "duration": 858,
    "start_time": "2021-11-05T18:08:18.746Z"
   },
   {
    "duration": 831,
    "start_time": "2021-11-05T18:09:04.397Z"
   },
   {
    "duration": 7,
    "start_time": "2021-11-05T18:13:39.729Z"
   },
   {
    "duration": 14,
    "start_time": "2021-11-05T18:13:45.355Z"
   },
   {
    "duration": 14,
    "start_time": "2021-11-05T18:14:26.648Z"
   },
   {
    "duration": 5,
    "start_time": "2021-11-06T07:46:42.967Z"
   },
   {
    "duration": 1555,
    "start_time": "2021-11-06T07:46:42.974Z"
   },
   {
    "duration": 66,
    "start_time": "2021-11-06T07:46:44.532Z"
   },
   {
    "duration": 5,
    "start_time": "2021-11-06T07:46:44.601Z"
   },
   {
    "duration": 22,
    "start_time": "2021-11-06T07:46:44.608Z"
   },
   {
    "duration": 9,
    "start_time": "2021-11-06T07:46:44.632Z"
   },
   {
    "duration": 4,
    "start_time": "2021-11-06T07:46:44.644Z"
   },
   {
    "duration": 35,
    "start_time": "2021-11-06T07:46:44.651Z"
   },
   {
    "duration": 7,
    "start_time": "2021-11-06T07:46:44.689Z"
   },
   {
    "duration": 8078,
    "start_time": "2021-11-06T07:46:44.698Z"
   },
   {
    "duration": 4,
    "start_time": "2021-11-06T07:46:52.781Z"
   },
   {
    "duration": 7,
    "start_time": "2021-11-06T07:46:52.787Z"
   },
   {
    "duration": 18,
    "start_time": "2021-11-06T07:46:52.796Z"
   },
   {
    "duration": 13,
    "start_time": "2021-11-06T07:46:52.816Z"
   },
   {
    "duration": 60,
    "start_time": "2021-11-06T07:46:52.831Z"
   },
   {
    "duration": 23,
    "start_time": "2021-11-06T07:46:52.893Z"
   },
   {
    "duration": 31,
    "start_time": "2021-11-06T07:46:52.918Z"
   },
   {
    "duration": 56,
    "start_time": "2021-11-06T07:46:52.952Z"
   },
   {
    "duration": 6,
    "start_time": "2021-11-06T07:46:53.012Z"
   },
   {
    "duration": 14,
    "start_time": "2021-11-06T07:46:53.021Z"
   },
   {
    "duration": 46,
    "start_time": "2021-11-06T07:46:53.038Z"
   },
   {
    "duration": 6,
    "start_time": "2021-11-06T07:46:53.087Z"
   },
   {
    "duration": 720,
    "start_time": "2021-11-06T07:46:53.095Z"
   },
   {
    "duration": 823,
    "start_time": "2021-11-06T07:46:53.818Z"
   },
   {
    "duration": 6,
    "start_time": "2021-11-06T07:48:57.052Z"
   },
   {
    "duration": 5,
    "start_time": "2021-11-06T07:48:59.003Z"
   },
   {
    "duration": 13,
    "start_time": "2021-11-06T07:52:53.793Z"
   },
   {
    "duration": 13,
    "start_time": "2021-11-06T07:52:56.642Z"
   },
   {
    "duration": 6,
    "start_time": "2021-11-06T07:53:02.363Z"
   },
   {
    "duration": 4,
    "start_time": "2021-11-06T07:53:03.559Z"
   },
   {
    "duration": 4,
    "start_time": "2021-11-06T07:53:06.890Z"
   },
   {
    "duration": 7,
    "start_time": "2021-11-06T07:53:11.553Z"
   },
   {
    "duration": 6,
    "start_time": "2021-11-06T07:53:14.474Z"
   },
   {
    "duration": 8,
    "start_time": "2021-11-06T07:53:17.682Z"
   },
   {
    "duration": 6,
    "start_time": "2021-11-06T07:53:21.195Z"
   },
   {
    "duration": 12,
    "start_time": "2021-11-06T07:53:24.945Z"
   },
   {
    "duration": 12,
    "start_time": "2021-11-06T07:53:28.763Z"
   },
   {
    "duration": 12,
    "start_time": "2021-11-06T07:53:30.110Z"
   },
   {
    "duration": 7,
    "start_time": "2021-11-06T07:53:36.883Z"
   },
   {
    "duration": 13,
    "start_time": "2021-11-06T07:53:39.189Z"
   },
   {
    "duration": 15,
    "start_time": "2021-11-06T07:53:42.121Z"
   },
   {
    "duration": 6,
    "start_time": "2021-11-06T08:31:29.691Z"
   },
   {
    "duration": 3,
    "start_time": "2021-11-06T08:31:37.369Z"
   },
   {
    "duration": 8,
    "start_time": "2021-11-06T08:57:06.304Z"
   },
   {
    "duration": 4,
    "start_time": "2021-11-06T09:04:24.770Z"
   },
   {
    "duration": 6,
    "start_time": "2021-11-06T09:04:26.604Z"
   },
   {
    "duration": 7,
    "start_time": "2021-11-06T09:04:32.738Z"
   },
   {
    "duration": 7,
    "start_time": "2021-11-06T09:04:43.925Z"
   },
   {
    "duration": 5,
    "start_time": "2021-11-06T09:04:59.069Z"
   },
   {
    "duration": 6,
    "start_time": "2021-11-06T09:05:05.325Z"
   },
   {
    "duration": 5,
    "start_time": "2021-11-06T09:05:07.032Z"
   },
   {
    "duration": 6,
    "start_time": "2021-11-06T09:05:08.316Z"
   },
   {
    "duration": 5,
    "start_time": "2021-11-06T09:05:18.852Z"
   },
   {
    "duration": 5,
    "start_time": "2021-11-06T09:05:21.316Z"
   },
   {
    "duration": 5,
    "start_time": "2021-11-06T09:05:28.436Z"
   },
   {
    "duration": 6,
    "start_time": "2021-11-06T09:06:22.408Z"
   },
   {
    "duration": 103,
    "start_time": "2021-11-06T09:22:33.949Z"
   },
   {
    "duration": 7,
    "start_time": "2021-11-06T09:22:42.778Z"
   },
   {
    "duration": 705,
    "start_time": "2021-11-06T09:22:52.379Z"
   },
   {
    "duration": 7,
    "start_time": "2021-11-06T09:32:04.222Z"
   },
   {
    "duration": 631,
    "start_time": "2021-11-06T09:32:06.562Z"
   },
   {
    "duration": 10,
    "start_time": "2021-11-06T09:36:31.840Z"
   },
   {
    "duration": 14,
    "start_time": "2021-11-06T09:36:33.704Z"
   },
   {
    "duration": 13,
    "start_time": "2021-11-06T09:36:43.536Z"
   },
   {
    "duration": 11,
    "start_time": "2021-11-06T09:39:47.594Z"
   },
   {
    "duration": 14,
    "start_time": "2021-11-06T09:43:20.655Z"
   },
   {
    "duration": 14,
    "start_time": "2021-11-06T09:43:44.695Z"
   },
   {
    "duration": 13,
    "start_time": "2021-11-06T09:43:56.044Z"
   },
   {
    "duration": 14,
    "start_time": "2021-11-06T09:44:07.511Z"
   },
   {
    "duration": 15,
    "start_time": "2021-11-06T09:44:34.775Z"
   },
   {
    "duration": 14,
    "start_time": "2021-11-06T12:12:15.814Z"
   },
   {
    "duration": 14,
    "start_time": "2021-11-06T12:12:32.851Z"
   },
   {
    "duration": 17,
    "start_time": "2021-11-06T12:12:35.487Z"
   },
   {
    "duration": 20,
    "start_time": "2021-11-06T12:16:46.513Z"
   },
   {
    "duration": 8,
    "start_time": "2021-11-06T12:17:12.267Z"
   },
   {
    "duration": 7680,
    "start_time": "2021-11-06T12:18:38.771Z"
   },
   {
    "duration": 7328,
    "start_time": "2021-11-06T12:19:04.668Z"
   },
   {
    "duration": 21,
    "start_time": "2021-11-06T12:19:16.621Z"
   },
   {
    "duration": 7,
    "start_time": "2021-11-06T12:19:35.406Z"
   },
   {
    "duration": 6,
    "start_time": "2021-11-06T12:19:42.831Z"
   },
   {
    "duration": 9,
    "start_time": "2021-11-06T12:21:08.975Z"
   },
   {
    "duration": 12,
    "start_time": "2021-11-06T12:21:11.152Z"
   },
   {
    "duration": 16,
    "start_time": "2021-11-06T12:21:14.768Z"
   },
   {
    "duration": 16,
    "start_time": "2021-11-06T12:25:06.413Z"
   },
   {
    "duration": 12,
    "start_time": "2021-11-06T12:25:18.745Z"
   },
   {
    "duration": 11,
    "start_time": "2021-11-06T12:25:34.698Z"
   },
   {
    "duration": 17,
    "start_time": "2021-11-06T12:33:42.065Z"
   },
   {
    "duration": 4,
    "start_time": "2021-11-06T19:38:38.439Z"
   },
   {
    "duration": 1541,
    "start_time": "2021-11-06T19:38:38.445Z"
   },
   {
    "duration": 66,
    "start_time": "2021-11-06T19:38:39.989Z"
   },
   {
    "duration": 5,
    "start_time": "2021-11-06T19:38:40.058Z"
   },
   {
    "duration": 21,
    "start_time": "2021-11-06T19:38:40.065Z"
   },
   {
    "duration": 8,
    "start_time": "2021-11-06T19:38:40.088Z"
   },
   {
    "duration": 4,
    "start_time": "2021-11-06T19:38:40.100Z"
   },
   {
    "duration": 10,
    "start_time": "2021-11-06T19:38:40.106Z"
   },
   {
    "duration": 5,
    "start_time": "2021-11-06T19:38:40.118Z"
   },
   {
    "duration": 8234,
    "start_time": "2021-11-06T19:38:40.125Z"
   },
   {
    "duration": 3,
    "start_time": "2021-11-06T19:38:48.361Z"
   },
   {
    "duration": 14,
    "start_time": "2021-11-06T19:38:48.367Z"
   },
   {
    "duration": 16,
    "start_time": "2021-11-06T19:38:48.384Z"
   },
   {
    "duration": 14,
    "start_time": "2021-11-06T19:38:48.402Z"
   },
   {
    "duration": 50,
    "start_time": "2021-11-06T19:38:48.418Z"
   },
   {
    "duration": 21,
    "start_time": "2021-11-06T19:38:48.470Z"
   },
   {
    "duration": 31,
    "start_time": "2021-11-06T19:38:48.493Z"
   },
   {
    "duration": 59,
    "start_time": "2021-11-06T19:38:48.526Z"
   },
   {
    "duration": 6,
    "start_time": "2021-11-06T19:38:48.590Z"
   },
   {
    "duration": 14,
    "start_time": "2021-11-06T19:38:48.599Z"
   },
   {
    "duration": 46,
    "start_time": "2021-11-06T19:38:48.615Z"
   },
   {
    "duration": 5,
    "start_time": "2021-11-06T19:38:48.663Z"
   },
   {
    "duration": 669,
    "start_time": "2021-11-06T19:38:48.670Z"
   },
   {
    "duration": 930,
    "start_time": "2021-11-06T19:38:49.341Z"
   },
   {
    "duration": 4,
    "start_time": "2021-11-06T19:38:50.273Z"
   },
   {
    "duration": 14,
    "start_time": "2021-11-06T19:38:50.280Z"
   },
   {
    "duration": 1068,
    "start_time": "2021-11-06T19:38:50.296Z"
   },
   {
    "duration": -276,
    "start_time": "2021-11-06T19:38:51.643Z"
   },
   {
    "duration": -300,
    "start_time": "2021-11-06T19:38:51.668Z"
   },
   {
    "duration": -301,
    "start_time": "2021-11-06T19:38:51.671Z"
   },
   {
    "duration": -345,
    "start_time": "2021-11-06T19:38:51.716Z"
   },
   {
    "duration": -357,
    "start_time": "2021-11-06T19:38:51.730Z"
   },
   {
    "duration": -439,
    "start_time": "2021-11-06T19:38:51.813Z"
   },
   {
    "duration": -442,
    "start_time": "2021-11-06T19:38:51.817Z"
   },
   {
    "duration": -733,
    "start_time": "2021-11-06T19:38:52.110Z"
   },
   {
    "duration": -752,
    "start_time": "2021-11-06T19:38:52.130Z"
   },
   {
    "duration": -757,
    "start_time": "2021-11-06T19:38:52.136Z"
   },
   {
    "duration": -763,
    "start_time": "2021-11-06T19:38:52.144Z"
   },
   {
    "duration": -815,
    "start_time": "2021-11-06T19:38:52.197Z"
   },
   {
    "duration": -824,
    "start_time": "2021-11-06T19:38:52.208Z"
   },
   {
    "duration": -829,
    "start_time": "2021-11-06T19:38:52.214Z"
   },
   {
    "duration": -840,
    "start_time": "2021-11-06T19:38:52.226Z"
   },
   {
    "duration": -920,
    "start_time": "2021-11-06T19:38:52.308Z"
   },
   {
    "duration": -974,
    "start_time": "2021-11-06T19:38:52.363Z"
   },
   {
    "duration": -975,
    "start_time": "2021-11-06T19:38:52.365Z"
   },
   {
    "duration": -976,
    "start_time": "2021-11-06T19:38:52.368Z"
   },
   {
    "duration": 7,
    "start_time": "2021-11-06T19:39:02.380Z"
   },
   {
    "duration": 8,
    "start_time": "2021-11-06T19:39:02.390Z"
   },
   {
    "duration": 12,
    "start_time": "2021-11-06T19:39:02.401Z"
   },
   {
    "duration": 102,
    "start_time": "2021-11-06T19:39:02.460Z"
   },
   {
    "duration": 94,
    "start_time": "2021-11-06T19:39:02.566Z"
   },
   {
    "duration": 6,
    "start_time": "2021-11-06T19:39:02.663Z"
   },
   {
    "duration": 6,
    "start_time": "2021-11-06T19:39:02.672Z"
   },
   {
    "duration": 9,
    "start_time": "2021-11-06T19:39:02.680Z"
   },
   {
    "duration": 12,
    "start_time": "2021-11-06T19:39:02.692Z"
   },
   {
    "duration": 8,
    "start_time": "2021-11-06T19:39:02.761Z"
   },
   {
    "duration": 89,
    "start_time": "2021-11-06T19:39:02.772Z"
   },
   {
    "duration": 9,
    "start_time": "2021-11-06T19:39:02.864Z"
   },
   {
    "duration": 91,
    "start_time": "2021-11-06T19:39:02.877Z"
   },
   {
    "duration": 11,
    "start_time": "2021-11-06T19:39:02.971Z"
   },
   {
    "duration": 15,
    "start_time": "2021-11-06T19:39:02.986Z"
   },
   {
    "duration": 15,
    "start_time": "2021-11-06T19:39:03.004Z"
   },
   {
    "duration": 11,
    "start_time": "2021-11-06T19:39:03.059Z"
   },
   {
    "duration": 13,
    "start_time": "2021-11-06T19:39:03.073Z"
   },
   {
    "duration": 30,
    "start_time": "2021-11-06T19:39:03.089Z"
   },
   {
    "duration": 7,
    "start_time": "2021-11-06T19:40:08.224Z"
   },
   {
    "duration": 16,
    "start_time": "2021-11-06T19:40:14.152Z"
   },
   {
    "duration": 7,
    "start_time": "2021-11-06T19:57:22.253Z"
   },
   {
    "duration": 7,
    "start_time": "2021-11-06T19:57:42.509Z"
   },
   {
    "duration": 7,
    "start_time": "2021-11-06T19:58:03.734Z"
   },
   {
    "duration": 7,
    "start_time": "2021-11-06T19:58:22.405Z"
   },
   {
    "duration": 175,
    "start_time": "2021-11-06T19:59:19.465Z"
   },
   {
    "duration": 7,
    "start_time": "2021-11-06T19:59:29.214Z"
   },
   {
    "duration": 725,
    "start_time": "2021-11-06T19:59:43.929Z"
   },
   {
    "duration": 369,
    "start_time": "2021-11-06T20:19:19.617Z"
   },
   {
    "duration": 7,
    "start_time": "2021-11-06T20:19:31.392Z"
   },
   {
    "duration": 8,
    "start_time": "2021-11-06T20:26:32.079Z"
   },
   {
    "duration": 7,
    "start_time": "2021-11-06T20:26:39.078Z"
   },
   {
    "duration": 16,
    "start_time": "2021-11-06T20:26:51.998Z"
   },
   {
    "duration": 14,
    "start_time": "2021-11-06T20:26:58.076Z"
   },
   {
    "duration": 5,
    "start_time": "2021-11-06T20:27:00.113Z"
   },
   {
    "duration": 688,
    "start_time": "2021-11-06T20:27:02.871Z"
   },
   {
    "duration": 840,
    "start_time": "2021-11-06T20:27:06.737Z"
   },
   {
    "duration": 753,
    "start_time": "2021-11-06T20:27:14.588Z"
   },
   {
    "duration": 6,
    "start_time": "2021-11-06T20:27:43.004Z"
   },
   {
    "duration": 7,
    "start_time": "2021-11-06T20:27:45.767Z"
   },
   {
    "duration": 8,
    "start_time": "2021-11-06T20:27:53.386Z"
   },
   {
    "duration": 4,
    "start_time": "2021-11-06T20:28:24.280Z"
   },
   {
    "duration": 16,
    "start_time": "2021-11-06T20:28:27.004Z"
   },
   {
    "duration": 5,
    "start_time": "2021-11-06T20:29:04.639Z"
   },
   {
    "duration": 1535,
    "start_time": "2021-11-06T20:29:04.646Z"
   },
   {
    "duration": 20,
    "start_time": "2021-11-06T20:29:06.184Z"
   },
   {
    "duration": 6,
    "start_time": "2021-11-06T20:29:06.207Z"
   },
   {
    "duration": 20,
    "start_time": "2021-11-06T20:29:06.215Z"
   },
   {
    "duration": 26,
    "start_time": "2021-11-06T20:29:06.237Z"
   },
   {
    "duration": 6,
    "start_time": "2021-11-06T20:29:06.266Z"
   },
   {
    "duration": 11,
    "start_time": "2021-11-06T20:29:06.277Z"
   },
   {
    "duration": 4,
    "start_time": "2021-11-06T20:29:06.292Z"
   },
   {
    "duration": 7912,
    "start_time": "2021-11-06T20:29:06.299Z"
   },
   {
    "duration": 5,
    "start_time": "2021-11-06T20:29:14.214Z"
   },
   {
    "duration": 8,
    "start_time": "2021-11-06T20:29:14.222Z"
   },
   {
    "duration": 42,
    "start_time": "2021-11-06T20:29:14.233Z"
   },
   {
    "duration": 15,
    "start_time": "2021-11-06T20:29:14.278Z"
   },
   {
    "duration": 20,
    "start_time": "2021-11-06T20:29:14.296Z"
   },
   {
    "duration": 58,
    "start_time": "2021-11-06T20:29:14.318Z"
   },
   {
    "duration": 32,
    "start_time": "2021-11-06T20:29:14.378Z"
   },
   {
    "duration": 53,
    "start_time": "2021-11-06T20:29:14.412Z"
   },
   {
    "duration": 7,
    "start_time": "2021-11-06T20:29:14.468Z"
   },
   {
    "duration": 16,
    "start_time": "2021-11-06T20:29:14.477Z"
   },
   {
    "duration": 17,
    "start_time": "2021-11-06T20:29:14.495Z"
   },
   {
    "duration": 6,
    "start_time": "2021-11-06T20:29:14.514Z"
   },
   {
    "duration": 671,
    "start_time": "2021-11-06T20:29:14.562Z"
   },
   {
    "duration": 803,
    "start_time": "2021-11-06T20:29:15.236Z"
   },
   {
    "duration": 11,
    "start_time": "2021-11-06T20:29:23.637Z"
   },
   {
    "duration": 5,
    "start_time": "2021-11-06T20:29:25.799Z"
   },
   {
    "duration": 1087,
    "start_time": "2021-11-06T20:29:27.627Z"
   },
   {
    "duration": 784,
    "start_time": "2021-11-06T20:29:44.707Z"
   },
   {
    "duration": 5,
    "start_time": "2021-11-06T20:33:03.886Z"
   },
   {
    "duration": 740,
    "start_time": "2021-11-06T20:33:05.473Z"
   },
   {
    "duration": 4,
    "start_time": "2021-11-06T20:45:14.551Z"
   },
   {
    "duration": 1829,
    "start_time": "2021-11-06T20:45:14.557Z"
   },
   {
    "duration": 20,
    "start_time": "2021-11-06T20:45:16.390Z"
   },
   {
    "duration": 5,
    "start_time": "2021-11-06T20:45:16.413Z"
   },
   {
    "duration": 28,
    "start_time": "2021-11-06T20:45:16.420Z"
   },
   {
    "duration": 16,
    "start_time": "2021-11-06T20:45:16.451Z"
   },
   {
    "duration": 4,
    "start_time": "2021-11-06T20:45:16.470Z"
   },
   {
    "duration": 9,
    "start_time": "2021-11-06T20:45:16.477Z"
   },
   {
    "duration": 3,
    "start_time": "2021-11-06T20:45:16.490Z"
   },
   {
    "duration": 8018,
    "start_time": "2021-11-06T20:45:16.495Z"
   },
   {
    "duration": 3,
    "start_time": "2021-11-06T20:45:24.516Z"
   },
   {
    "duration": 9,
    "start_time": "2021-11-06T20:45:24.521Z"
   },
   {
    "duration": 38,
    "start_time": "2021-11-06T20:45:24.532Z"
   },
   {
    "duration": 14,
    "start_time": "2021-11-06T20:45:24.572Z"
   },
   {
    "duration": 21,
    "start_time": "2021-11-06T20:45:24.588Z"
   },
   {
    "duration": 49,
    "start_time": "2021-11-06T20:45:24.611Z"
   },
   {
    "duration": 32,
    "start_time": "2021-11-06T20:45:24.662Z"
   },
   {
    "duration": 31,
    "start_time": "2021-11-06T20:45:24.697Z"
   },
   {
    "duration": 34,
    "start_time": "2021-11-06T20:45:24.731Z"
   },
   {
    "duration": 18,
    "start_time": "2021-11-06T20:45:24.768Z"
   },
   {
    "duration": 14,
    "start_time": "2021-11-06T20:45:24.788Z"
   },
   {
    "duration": 5,
    "start_time": "2021-11-06T20:45:24.804Z"
   },
   {
    "duration": 762,
    "start_time": "2021-11-06T20:45:24.817Z"
   },
   {
    "duration": 883,
    "start_time": "2021-11-06T20:45:25.582Z"
   },
   {
    "duration": 4,
    "start_time": "2021-11-06T20:45:26.467Z"
   },
   {
    "duration": 16,
    "start_time": "2021-11-06T20:45:26.473Z"
   },
   {
    "duration": 1061,
    "start_time": "2021-11-06T20:45:26.491Z"
   },
   {
    "duration": -1637,
    "start_time": "2021-11-06T20:45:29.191Z"
   },
   {
    "duration": -1642,
    "start_time": "2021-11-06T20:45:29.198Z"
   },
   {
    "duration": -1646,
    "start_time": "2021-11-06T20:45:29.204Z"
   },
   {
    "duration": -1662,
    "start_time": "2021-11-06T20:45:29.221Z"
   },
   {
    "duration": -1665,
    "start_time": "2021-11-06T20:45:29.226Z"
   },
   {
    "duration": -1666,
    "start_time": "2021-11-06T20:45:29.228Z"
   },
   {
    "duration": -1793,
    "start_time": "2021-11-06T20:45:29.357Z"
   },
   {
    "duration": -1794,
    "start_time": "2021-11-06T20:45:29.359Z"
   },
   {
    "duration": -1795,
    "start_time": "2021-11-06T20:45:29.362Z"
   },
   {
    "duration": -1796,
    "start_time": "2021-11-06T20:45:29.364Z"
   },
   {
    "duration": -1798,
    "start_time": "2021-11-06T20:45:29.367Z"
   },
   {
    "duration": -1798,
    "start_time": "2021-11-06T20:45:29.369Z"
   },
   {
    "duration": -1903,
    "start_time": "2021-11-06T20:45:29.475Z"
   },
   {
    "duration": -1961,
    "start_time": "2021-11-06T20:45:29.534Z"
   },
   {
    "duration": -1962,
    "start_time": "2021-11-06T20:45:29.537Z"
   },
   {
    "duration": -1969,
    "start_time": "2021-11-06T20:45:29.545Z"
   },
   {
    "duration": -1971,
    "start_time": "2021-11-06T20:45:29.548Z"
   },
   {
    "duration": -1971,
    "start_time": "2021-11-06T20:45:29.550Z"
   },
   {
    "duration": -2040,
    "start_time": "2021-11-06T20:45:29.620Z"
   },
   {
    "duration": 6,
    "start_time": "2021-11-06T20:45:45.463Z"
   },
   {
    "duration": 4,
    "start_time": "2021-11-06T20:46:50.524Z"
   },
   {
    "duration": 48,
    "start_time": "2021-11-06T20:46:52.945Z"
   },
   {
    "duration": 5,
    "start_time": "2021-11-06T20:50:04.942Z"
   },
   {
    "duration": 738,
    "start_time": "2021-11-06T20:50:07.024Z"
   },
   {
    "duration": 4,
    "start_time": "2021-11-06T20:54:37.671Z"
   },
   {
    "duration": 739,
    "start_time": "2021-11-06T20:54:39.288Z"
   },
   {
    "duration": 5,
    "start_time": "2021-11-06T20:55:01.313Z"
   },
   {
    "duration": 45,
    "start_time": "2021-11-06T20:55:02.979Z"
   },
   {
    "duration": 11643,
    "start_time": "2021-11-06T20:56:30.352Z"
   },
   {
    "duration": 5,
    "start_time": "2021-11-06T20:57:09.856Z"
   },
   {
    "duration": 1525,
    "start_time": "2021-11-06T20:57:09.864Z"
   },
   {
    "duration": 19,
    "start_time": "2021-11-06T20:57:11.393Z"
   },
   {
    "duration": 15,
    "start_time": "2021-11-06T20:57:11.415Z"
   },
   {
    "duration": 18,
    "start_time": "2021-11-06T20:57:11.432Z"
   },
   {
    "duration": 24,
    "start_time": "2021-11-06T20:57:11.452Z"
   },
   {
    "duration": 3,
    "start_time": "2021-11-06T20:57:11.479Z"
   },
   {
    "duration": 15,
    "start_time": "2021-11-06T20:57:11.486Z"
   },
   {
    "duration": 6,
    "start_time": "2021-11-06T20:57:11.504Z"
   },
   {
    "duration": 7665,
    "start_time": "2021-11-06T20:57:11.512Z"
   },
   {
    "duration": 3,
    "start_time": "2021-11-06T20:57:19.179Z"
   },
   {
    "duration": 9,
    "start_time": "2021-11-06T20:57:19.184Z"
   },
   {
    "duration": 20,
    "start_time": "2021-11-06T20:57:19.196Z"
   },
   {
    "duration": 41,
    "start_time": "2021-11-06T20:57:19.219Z"
   },
   {
    "duration": 22,
    "start_time": "2021-11-06T20:57:19.263Z"
   },
   {
    "duration": 21,
    "start_time": "2021-11-06T20:57:19.288Z"
   },
   {
    "duration": 20,
    "start_time": "2021-11-06T20:57:19.312Z"
   },
   {
    "duration": 22,
    "start_time": "2021-11-06T20:57:19.360Z"
   },
   {
    "duration": 7,
    "start_time": "2021-11-06T20:57:19.384Z"
   },
   {
    "duration": 19,
    "start_time": "2021-11-06T20:57:19.393Z"
   },
   {
    "duration": 45,
    "start_time": "2021-11-06T20:57:19.414Z"
   },
   {
    "duration": 9,
    "start_time": "2021-11-06T20:57:19.461Z"
   },
   {
    "duration": 746,
    "start_time": "2021-11-06T20:57:19.475Z"
   },
   {
    "duration": 911,
    "start_time": "2021-11-06T20:57:20.224Z"
   },
   {
    "duration": 5,
    "start_time": "2021-11-06T20:57:21.138Z"
   },
   {
    "duration": 20,
    "start_time": "2021-11-06T20:57:21.145Z"
   },
   {
    "duration": 53,
    "start_time": "2021-11-06T20:57:21.167Z"
   },
   {
    "duration": 7,
    "start_time": "2021-11-06T20:57:21.222Z"
   },
   {
    "duration": 19,
    "start_time": "2021-11-06T20:57:21.231Z"
   },
   {
    "duration": 28,
    "start_time": "2021-11-06T20:57:21.253Z"
   },
   {
    "duration": 83,
    "start_time": "2021-11-06T20:57:21.285Z"
   },
   {
    "duration": 90,
    "start_time": "2021-11-06T20:57:21.370Z"
   },
   {
    "duration": 11,
    "start_time": "2021-11-06T20:57:21.462Z"
   },
   {
    "duration": 5,
    "start_time": "2021-11-06T20:57:21.560Z"
   },
   {
    "duration": 16,
    "start_time": "2021-11-06T20:57:21.567Z"
   },
   {
    "duration": 12,
    "start_time": "2021-11-06T20:57:21.585Z"
   },
   {
    "duration": 65,
    "start_time": "2021-11-06T20:57:21.601Z"
   },
   {
    "duration": 9,
    "start_time": "2021-11-06T20:57:21.670Z"
   },
   {
    "duration": 7,
    "start_time": "2021-11-06T20:57:21.759Z"
   },
   {
    "duration": 99,
    "start_time": "2021-11-06T20:57:21.768Z"
   },
   {
    "duration": 17,
    "start_time": "2021-11-06T20:57:21.870Z"
   },
   {
    "duration": 23,
    "start_time": "2021-11-06T20:57:21.889Z"
   },
   {
    "duration": 20,
    "start_time": "2021-11-06T20:57:21.914Z"
   },
   {
    "duration": 26,
    "start_time": "2021-11-06T20:57:21.936Z"
   },
   {
    "duration": 11,
    "start_time": "2021-11-06T20:57:21.965Z"
   },
   {
    "duration": 24,
    "start_time": "2021-11-06T20:57:21.978Z"
   },
   {
    "duration": 5,
    "start_time": "2021-11-06T20:57:48.085Z"
   },
   {
    "duration": 35,
    "start_time": "2021-11-06T20:57:50.047Z"
   },
   {
    "duration": 5,
    "start_time": "2021-11-06T20:58:13.107Z"
   },
   {
    "duration": 36,
    "start_time": "2021-11-06T20:58:14.415Z"
   },
   {
    "duration": 4,
    "start_time": "2021-11-07T06:20:33.513Z"
   },
   {
    "duration": 1550,
    "start_time": "2021-11-07T06:20:33.520Z"
   },
   {
    "duration": 18,
    "start_time": "2021-11-07T06:20:35.073Z"
   },
   {
    "duration": 6,
    "start_time": "2021-11-07T06:20:35.094Z"
   },
   {
    "duration": 28,
    "start_time": "2021-11-07T06:20:35.102Z"
   },
   {
    "duration": 8,
    "start_time": "2021-11-07T06:20:35.133Z"
   },
   {
    "duration": 4,
    "start_time": "2021-11-07T06:20:35.145Z"
   },
   {
    "duration": 8,
    "start_time": "2021-11-07T06:20:35.152Z"
   },
   {
    "duration": 3,
    "start_time": "2021-11-07T06:20:35.162Z"
   },
   {
    "duration": 8618,
    "start_time": "2021-11-07T06:20:35.167Z"
   },
   {
    "duration": 3,
    "start_time": "2021-11-07T06:20:43.788Z"
   },
   {
    "duration": 12,
    "start_time": "2021-11-07T06:20:43.794Z"
   },
   {
    "duration": 32,
    "start_time": "2021-11-07T06:20:43.809Z"
   },
   {
    "duration": 14,
    "start_time": "2021-11-07T06:20:43.843Z"
   },
   {
    "duration": 20,
    "start_time": "2021-11-07T06:20:43.859Z"
   },
   {
    "duration": 49,
    "start_time": "2021-11-07T06:20:43.882Z"
   },
   {
    "duration": 33,
    "start_time": "2021-11-07T06:20:43.933Z"
   },
   {
    "duration": 36,
    "start_time": "2021-11-07T06:20:43.968Z"
   },
   {
    "duration": 8,
    "start_time": "2021-11-07T06:20:44.029Z"
   },
   {
    "duration": 16,
    "start_time": "2021-11-07T06:20:44.040Z"
   },
   {
    "duration": 15,
    "start_time": "2021-11-07T06:20:44.058Z"
   },
   {
    "duration": 5,
    "start_time": "2021-11-07T06:20:44.075Z"
   },
   {
    "duration": 889,
    "start_time": "2021-11-07T06:20:44.082Z"
   },
   {
    "duration": 902,
    "start_time": "2021-11-07T06:20:44.973Z"
   },
   {
    "duration": 4,
    "start_time": "2021-11-07T06:20:45.878Z"
   },
   {
    "duration": 14,
    "start_time": "2021-11-07T06:20:45.885Z"
   },
   {
    "duration": 669,
    "start_time": "2021-11-07T06:20:45.902Z"
   },
   {
    "duration": -256,
    "start_time": "2021-11-07T06:20:46.829Z"
   },
   {
    "duration": -258,
    "start_time": "2021-11-07T06:20:46.833Z"
   },
   {
    "duration": -259,
    "start_time": "2021-11-07T06:20:46.835Z"
   },
   {
    "duration": -260,
    "start_time": "2021-11-07T06:20:46.837Z"
   },
   {
    "duration": -412,
    "start_time": "2021-11-07T06:20:46.991Z"
   },
   {
    "duration": -419,
    "start_time": "2021-11-07T06:20:46.999Z"
   },
   {
    "duration": -420,
    "start_time": "2021-11-07T06:20:47.001Z"
   },
   {
    "duration": -421,
    "start_time": "2021-11-07T06:20:47.004Z"
   },
   {
    "duration": -422,
    "start_time": "2021-11-07T06:20:47.006Z"
   },
   {
    "duration": -422,
    "start_time": "2021-11-07T06:20:47.008Z"
   },
   {
    "duration": -422,
    "start_time": "2021-11-07T06:20:47.010Z"
   },
   {
    "duration": -422,
    "start_time": "2021-11-07T06:20:47.012Z"
   },
   {
    "duration": -422,
    "start_time": "2021-11-07T06:20:47.014Z"
   },
   {
    "duration": -423,
    "start_time": "2021-11-07T06:20:47.016Z"
   },
   {
    "duration": -424,
    "start_time": "2021-11-07T06:20:47.019Z"
   },
   {
    "duration": -424,
    "start_time": "2021-11-07T06:20:47.021Z"
   },
   {
    "duration": -425,
    "start_time": "2021-11-07T06:20:47.023Z"
   },
   {
    "duration": -426,
    "start_time": "2021-11-07T06:20:47.025Z"
   },
   {
    "duration": -427,
    "start_time": "2021-11-07T06:20:47.027Z"
   },
   {
    "duration": 9778,
    "start_time": "2021-11-07T06:34:52.282Z"
   },
   {
    "duration": 6,
    "start_time": "2021-11-07T06:35:02.063Z"
   },
   {
    "duration": 39,
    "start_time": "2021-11-07T06:35:02.072Z"
   },
   {
    "duration": 21,
    "start_time": "2021-11-07T06:35:02.113Z"
   },
   {
    "duration": 21,
    "start_time": "2021-11-07T06:35:02.136Z"
   },
   {
    "duration": 26,
    "start_time": "2021-11-07T06:35:02.160Z"
   },
   {
    "duration": 25,
    "start_time": "2021-11-07T06:35:02.188Z"
   },
   {
    "duration": 24,
    "start_time": "2021-11-07T06:35:02.216Z"
   },
   {
    "duration": 4,
    "start_time": "2021-11-07T06:35:02.243Z"
   },
   {
    "duration": 8626,
    "start_time": "2021-11-07T06:35:02.250Z"
   },
   {
    "duration": 4,
    "start_time": "2021-11-07T06:35:10.878Z"
   },
   {
    "duration": 11,
    "start_time": "2021-11-07T06:35:10.885Z"
   },
   {
    "duration": 47,
    "start_time": "2021-11-07T06:35:10.899Z"
   },
   {
    "duration": 30,
    "start_time": "2021-11-07T06:35:10.948Z"
   },
   {
    "duration": 31,
    "start_time": "2021-11-07T06:35:10.981Z"
   },
   {
    "duration": 26,
    "start_time": "2021-11-07T06:35:11.015Z"
   },
   {
    "duration": 40,
    "start_time": "2021-11-07T06:35:11.044Z"
   },
   {
    "duration": 44,
    "start_time": "2021-11-07T06:35:11.087Z"
   },
   {
    "duration": 7,
    "start_time": "2021-11-07T06:35:11.133Z"
   },
   {
    "duration": 28,
    "start_time": "2021-11-07T06:35:11.142Z"
   },
   {
    "duration": 16,
    "start_time": "2021-11-07T06:35:11.173Z"
   },
   {
    "duration": 20,
    "start_time": "2021-11-07T06:35:11.191Z"
   },
   {
    "duration": 820,
    "start_time": "2021-11-07T06:35:11.216Z"
   },
   {
    "duration": 1185,
    "start_time": "2021-11-07T06:35:12.039Z"
   },
   {
    "duration": 5,
    "start_time": "2021-11-07T06:35:13.226Z"
   },
   {
    "duration": 36,
    "start_time": "2021-11-07T06:35:13.234Z"
   },
   {
    "duration": 675,
    "start_time": "2021-11-07T06:35:13.273Z"
   },
   {
    "duration": -261,
    "start_time": "2021-11-07T06:35:14.212Z"
   },
   {
    "duration": -266,
    "start_time": "2021-11-07T06:35:14.218Z"
   },
   {
    "duration": -268,
    "start_time": "2021-11-07T06:35:14.222Z"
   },
   {
    "duration": -271,
    "start_time": "2021-11-07T06:35:14.226Z"
   },
   {
    "duration": -271,
    "start_time": "2021-11-07T06:35:14.228Z"
   },
   {
    "duration": -273,
    "start_time": "2021-11-07T06:35:14.231Z"
   },
   {
    "duration": -275,
    "start_time": "2021-11-07T06:35:14.234Z"
   },
   {
    "duration": -276,
    "start_time": "2021-11-07T06:35:14.237Z"
   },
   {
    "duration": -276,
    "start_time": "2021-11-07T06:35:14.238Z"
   },
   {
    "duration": -332,
    "start_time": "2021-11-07T06:35:14.296Z"
   },
   {
    "duration": -350,
    "start_time": "2021-11-07T06:35:14.315Z"
   },
   {
    "duration": -353,
    "start_time": "2021-11-07T06:35:14.319Z"
   },
   {
    "duration": -354,
    "start_time": "2021-11-07T06:35:14.322Z"
   },
   {
    "duration": -356,
    "start_time": "2021-11-07T06:35:14.325Z"
   },
   {
    "duration": -358,
    "start_time": "2021-11-07T06:35:14.328Z"
   },
   {
    "duration": -360,
    "start_time": "2021-11-07T06:35:14.332Z"
   },
   {
    "duration": -361,
    "start_time": "2021-11-07T06:35:14.334Z"
   },
   {
    "duration": -362,
    "start_time": "2021-11-07T06:35:14.336Z"
   },
   {
    "duration": -362,
    "start_time": "2021-11-07T06:35:14.338Z"
   },
   {
    "duration": 4,
    "start_time": "2021-11-07T06:36:32.055Z"
   },
   {
    "duration": 1518,
    "start_time": "2021-11-07T06:36:32.062Z"
   },
   {
    "duration": 18,
    "start_time": "2021-11-07T06:36:33.582Z"
   },
   {
    "duration": 5,
    "start_time": "2021-11-07T06:36:33.603Z"
   },
   {
    "duration": 29,
    "start_time": "2021-11-07T06:36:33.610Z"
   },
   {
    "duration": 9,
    "start_time": "2021-11-07T06:36:33.641Z"
   },
   {
    "duration": 5,
    "start_time": "2021-11-07T06:36:33.652Z"
   },
   {
    "duration": 10,
    "start_time": "2021-11-07T06:36:33.660Z"
   },
   {
    "duration": 3,
    "start_time": "2021-11-07T06:36:33.673Z"
   },
   {
    "duration": 8419,
    "start_time": "2021-11-07T06:36:33.679Z"
   },
   {
    "duration": 4,
    "start_time": "2021-11-07T06:36:42.100Z"
   },
   {
    "duration": 23,
    "start_time": "2021-11-07T06:36:42.106Z"
   },
   {
    "duration": 21,
    "start_time": "2021-11-07T06:36:42.132Z"
   },
   {
    "duration": 15,
    "start_time": "2021-11-07T06:36:42.155Z"
   },
   {
    "duration": 23,
    "start_time": "2021-11-07T06:36:42.172Z"
   },
   {
    "duration": 23,
    "start_time": "2021-11-07T06:36:42.230Z"
   },
   {
    "duration": 23,
    "start_time": "2021-11-07T06:36:42.255Z"
   },
   {
    "duration": 50,
    "start_time": "2021-11-07T06:36:42.281Z"
   },
   {
    "duration": 8,
    "start_time": "2021-11-07T06:36:42.333Z"
   },
   {
    "duration": 16,
    "start_time": "2021-11-07T06:36:42.344Z"
   },
   {
    "duration": 14,
    "start_time": "2021-11-07T06:36:42.363Z"
   },
   {
    "duration": 5,
    "start_time": "2021-11-07T06:36:42.380Z"
   },
   {
    "duration": 736,
    "start_time": "2021-11-07T06:36:42.431Z"
   },
   {
    "duration": 882,
    "start_time": "2021-11-07T06:36:43.170Z"
   },
   {
    "duration": 5,
    "start_time": "2021-11-07T06:36:44.054Z"
   },
   {
    "duration": 11,
    "start_time": "2021-11-07T06:36:44.061Z"
   },
   {
    "duration": 55,
    "start_time": "2021-11-07T06:36:44.075Z"
   },
   {
    "duration": 7,
    "start_time": "2021-11-07T06:36:44.132Z"
   },
   {
    "duration": 8,
    "start_time": "2021-11-07T06:36:44.141Z"
   },
   {
    "duration": 16,
    "start_time": "2021-11-07T06:36:44.151Z"
   },
   {
    "duration": 68,
    "start_time": "2021-11-07T06:36:44.170Z"
   },
   {
    "duration": 91,
    "start_time": "2021-11-07T06:36:44.241Z"
   },
   {
    "duration": 8,
    "start_time": "2021-11-07T06:36:44.335Z"
   },
   {
    "duration": 93,
    "start_time": "2021-11-07T06:36:44.346Z"
   },
   {
    "duration": 10,
    "start_time": "2021-11-07T06:36:44.441Z"
   },
   {
    "duration": 10,
    "start_time": "2021-11-07T06:36:44.454Z"
   },
   {
    "duration": 65,
    "start_time": "2021-11-07T06:36:44.467Z"
   },
   {
    "duration": 93,
    "start_time": "2021-11-07T06:36:44.536Z"
   },
   {
    "duration": 10,
    "start_time": "2021-11-07T06:36:44.633Z"
   },
   {
    "duration": 92,
    "start_time": "2021-11-07T06:36:44.646Z"
   },
   {
    "duration": 12,
    "start_time": "2021-11-07T06:36:44.741Z"
   },
   {
    "duration": 23,
    "start_time": "2021-11-07T06:36:44.755Z"
   },
   {
    "duration": 8,
    "start_time": "2021-11-07T06:36:44.781Z"
   },
   {
    "duration": 42,
    "start_time": "2021-11-07T06:36:44.791Z"
   },
   {
    "duration": 12,
    "start_time": "2021-11-07T06:36:44.836Z"
   },
   {
    "duration": 29,
    "start_time": "2021-11-07T06:36:44.850Z"
   }
  ],
  "kernelspec": {
   "display_name": "Python 3",
   "language": "python",
   "name": "python3"
  },
  "language_info": {
   "codemirror_mode": {
    "name": "ipython",
    "version": 3
   },
   "file_extension": ".py",
   "mimetype": "text/x-python",
   "name": "python",
   "nbconvert_exporter": "python",
   "pygments_lexer": "ipython3",
   "version": "3.8.3"
  },
  "toc": {
   "base_numbering": 1,
   "nav_menu": {},
   "number_sections": true,
   "sideBar": true,
   "skip_h1_title": true,
   "title_cell": "Table of Contents",
   "title_sidebar": "Contents",
   "toc_cell": false,
   "toc_position": {},
   "toc_section_display": true,
   "toc_window_display": false
  }
 },
 "nbformat": 4,
 "nbformat_minor": 4
}
